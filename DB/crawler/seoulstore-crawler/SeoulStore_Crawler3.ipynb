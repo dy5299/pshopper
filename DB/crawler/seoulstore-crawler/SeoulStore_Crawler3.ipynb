{
 "cells": [
  {
   "cell_type": "markdown",
   "metadata": {},
   "source": [
    "# 서울스토어 크롤러3\n",
    "\n",
    "분류용 상품 이미지를 크롤링하기 위한 메타 정보 크롤러입니다. a.k.a \"통\" 만들기 사전작업\n",
    "\n",
    "서울스토어의 카테고리별 상품 정보(이미지, 상세정보 링크)를 크롤링하는 크롤러입니다. 크롤링 결과를 활용해서 상품 메타정보를 저장 + 상품 이미지(별도의 크롤러 활용)를 저장합니다.\n",
    "\n",
    "크롤링한 카테고리는 아래와 같습니다. (category number)\n",
    "- 상의 (1251)\n",
    "- 하의 (1253)\n",
    "- 원피스 (1252)\n",
    "\n",
    "크롤링 결과는 다음의 형태로 json 파일로 저장합니다.\n",
    "[{상품1}, {상품2}, ...]\n",
    "{상품1} = {\"key\": 상품번호, \"product_url\": 상품url, \"img_url\": 이미지url}\n",
    "\n",
    "## Histroy\n",
    "\n",
    "200517 다영\n",
    "- url별 다른 파일로 저장 (진행전)\n",
    "- 선 스크롤 후 리스트 수집\n",
    "- PAGE_DOWN 대신 END 사용\n",
    "- 가끔 오류로 스크롤이 안 될 경우 예외 처리\n",
    "- 목표 갯수 미만 & 스크롤이 더 이상 안 될 때 예외 처리\n",
    "- 저장 파일명에 현재 시간 추가\n",
    "- json 저장 대신 csv로 선 저장 후 json으로 변환 (진행전)\n",
    "- 리스트 상 보이는 정보는 모두 저장\n",
    "- 카테고리 컬럼에는 사이트가 사용하는 카테고리 넘버 저장"
   ]
  },
  {
   "cell_type": "code",
   "execution_count": 143,
   "metadata": {},
   "outputs": [],
   "source": [
    "from __future__ import unicode_literals\n",
    "from selenium import webdriver\n",
    "from selenium.webdriver.common.by import By\n",
    "from selenium.webdriver.support.ui import WebDriverWait\n",
    "from selenium.webdriver.support import expected_conditions as EC\n",
    "from selenium.webdriver.common.keys import Keys\n",
    "import pandas as pd\n",
    "import time\n",
    "import glob\n",
    "import json\n",
    "import os\n",
    "import re\n",
    "import sys\n",
    "import time\n",
    "import traceback\n",
    "from builtins import open\n",
    "from time import sleep"
   ]
  },
  {
   "cell_type": "code",
   "execution_count": 144,
   "metadata": {},
   "outputs": [],
   "source": [
    "#카테고리별 url(상의, 하의, 원피스)\n",
    "root_urls = ['https://www.seoulstore.com/categories/1251/regDatetime/desc',\n",
    "            'https://www.seoulstore.com/categories/1253/regDatetime/desc',\n",
    "            'https://www.seoulstore.com/categories/1252/regDatetime/desc']"
   ]
  },
  {
   "cell_type": "code",
   "execution_count": 179,
   "metadata": {},
   "outputs": [],
   "source": [
    "def get_products(urls, num, wait_time):\n",
    "    \"\"\"\n",
    "    Arguments:\n",
    "    - urls: 리스트. 크롤링할 url들을 원소로 함.\n",
    "    - num: url당 크롤링할 아이템 수\n",
    "    - wait_time: 로딩을 몇 초까지 기다릴지\n",
    "\n",
    "    Return:\n",
    "    - total_posts: 리스트. 아이템 당 {\"product_url\": 상품url, \"img_url\": 이미지url} 정보를 크롤링한 것을 원소로 함.\n",
    "\n",
    "    크롤링 완료 후 \"key\":고유번호(5자리수)를 추가해줄 것임 (key를 사후에 추가하는 이유는 중복 크롤링 처리를 쉽게 하기 위함임)\n",
    "    \"\"\"\n",
    "    \n",
    "    total_posts = []         # 전체 크롤링 결과를 저장할 리스트\n",
    "    product_set = set()   # 중복 크롤링 거르기 위한 셋. product_url을 원소로 함\n",
    "    unit_of_scroll = 10      # 반복할 스크롤 단위\n",
    "    count_nolonger = 0  # 목표 갯수 미만 & 스크롤이 더 이상 안 될 때를 대비한 카운트 변수\n",
    "    \n",
    "    \n",
    "    # 브라우저에 임의로 User-agent 옵션을 넣어 Python 코드로 접속함을 숨김\n",
    "    chrome_options = webdriver.ChromeOptions()\n",
    "    chrome_options.add_argument(\n",
    "        '--user-agent=\"Mozilla/5.0 (Macintosh; Intel Mac OS X 10_13_4) AppleWebKit/537.36 (KHTML, like Gecko) Chrome/66.0.3359.139 Safari/537.36\"')\n",
    "    # 크롬 브라우저 실행\n",
    "    browser = webdriver.Chrome(executable_path='chromedriver_81', chrome_options=chrome_options)\n",
    "    # 대기가능한 최대 시간\n",
    "    wait = WebDriverWait(browser, wait_time)\n",
    "\n",
    "    for url in urls:  # 인자로 주어진 url 하나씩 취함\n",
    "        posts = []  # 당해 url 크롤링 결과를 저장할 리스트\n",
    "\n",
    "        browser.get(url)\n",
    "        body = browser.find_element_by_tag_name('body')\n",
    "        \n",
    "        #카테고리 값\n",
    "        category = url.split('categories/')[-1].split('/')[0]\n",
    "#        wait.until(EC.presence_of_element_located((By.CLASS_NAME, 'image_container')))\n",
    "#        category = browser.find_element_by_class_name('Category_Nav').find_elements_by_class_name('active')[0].text\n",
    "        \n",
    "        \n",
    "        # 초기에 목표값만큼 스크롤 - 갈수록 속도가 느려져서 슬립타임 세분화\n",
    "        count_temp = 0\n",
    "        for i in range(num // 24):\n",
    "            body.send_keys(Keys.END)\n",
    "            if i < 40 : time.sleep(0.5)\n",
    "            elif 40<=i<80 : time.sleep(1)\n",
    "            else : time.sleep(2)\n",
    "            count_temp += 1\n",
    "        \n",
    "        # 목표 갯수 도달까지 스크롤\n",
    "        breakpoint = 0\n",
    "        while len(posts) < num and breakpoint == 0 :\n",
    "            # 현재까지 리스트 개수 카운트\n",
    "            if count_temp >= unit_of_scroll:\n",
    "                count_temp = 0\n",
    "                ele_posts = browser.find_element_by_class_name('products_container').find_elements_by_class_name('ProductItem')\n",
    "                cur_posts_count = len(ele_posts)\n",
    "                print(cur_posts_count)                             # FOR DEBUGGING\n",
    "            \n",
    "            # 목표 갯수에 도달하지 못헀을 경우 더 스크롤 (단위로)\n",
    "            if cur_posts_count < num:\n",
    "                last_height = browser.execute_script(\"return document.body.scrollHeight\")\n",
    "                for _ in range(unit_of_scroll):\n",
    "                    body.send_keys(Keys.END);     time.sleep(1)\n",
    "                    count_temp += 1\n",
    "                new_height = browser.execute_script(\"return document.body.scrollHeight\")\n",
    "            \n",
    "            #목표 갯수 미만 & 스크롤이 더 이상 안 될 때\n",
    "            if last_height == new_height :\n",
    "                body.send_keys(Keys.PAGE_UP);     time.sleep(2)\n",
    "                body.send_keys(Keys.END);             time.sleep(5)\n",
    "                count_nolonger += 1\n",
    "            else : count_nolonger = 0\n",
    "            if count_nolonger > 10 : breakpoint = 1\n",
    "        \n",
    "        # 스크롤 완료 후\n",
    "        for ele in ele_posts:\n",
    "            image_container = ele.find_element_by_class_name('image_container')\n",
    "            info_container = ele.find_element_by_class_name('info_container')\n",
    "            product_url = image_container.find_element_by_tag_name('a').get_attribute('href')\n",
    "            if product_url not in product_set:\n",
    "                dict_post = {\"product_url\": product_url}\n",
    "                wait.until(EC.presence_of_element_located((By.CLASS_NAME, 'ImageLoader.ratio_1_1.loaded')))\n",
    "                ele_img = image_container.find_element_by_class_name('ImageLoader.ratio_1_1.loaded')\n",
    "                dict_post[\"img_url\"] = ele_img.get_attribute(\"src\")\n",
    "                dict_post['category'] = category\n",
    "                dict_post[\"channel\"] = info_container.find_element_by_class_name('text_container').find_element_by_tag_name('a').text\n",
    "                dict_post['product_name'] = info_container.find_element_by_class_name('product_name').find_element_by_tag_name('a').text\n",
    "                price_list_ele = info_container.find_element_by_class_name('price').find_elements_by_css_selector('span')\n",
    "                if len(price_list_ele) >= 2 :\n",
    "                    dict_post['price_discount'] = info_container.find_element_by_class_name('price').find_elements_by_css_selector('span')[0].text\n",
    "                dict_post['price_consumer'] = info_container.find_element_by_class_name('price').find_elements_by_css_selector('span')[-1].text\n",
    "                \n",
    "                product_set.add(product_url)\n",
    "                posts.append(dict_post)\n",
    "        \n",
    "        \n",
    "        total_posts.extend(posts)\n",
    "        posts = []  # initialize posts in one url element\n",
    "    \n",
    "    return total_posts\n",
    "\n",
    "\n",
    "def output(data, filepath,nowtime=False):\n",
    "    out = json.dumps(data, ensure_ascii=False)\n",
    "    \n",
    "    if nowtime==True:\n",
    "        now = time.localtime()\n",
    "        filepath_temp = filepath.split('.json')\n",
    "        filepath = ''.join(filepath_temp[-1]) + \"_%02d%02d%02d_%02d%02d%02d.json\" % (now.tm_year, now.tm_mon, now.tm_mday, now.tm_hour, now.tm_min, now.tm_sec)\n",
    "    \n",
    "    if filepath:\n",
    "        with open(filepath, \"w\", encoding=\"utf8\") as f:\n",
    "            f.write(out)\n",
    "#        os.chmod(filepath, 0o777)        # for permission\n",
    "    else:\n",
    "        print(out)"
   ]
  },
  {
   "cell_type": "code",
   "execution_count": 121,
   "metadata": {
    "scrolled": true
   },
   "outputs": [
    {
     "name": "stderr",
     "output_type": "stream",
     "text": [
      "C:\\Anaconda3\\envs\\py36\\lib\\site-packages\\ipykernel_launcher.py:23: DeprecationWarning: use options instead of chrome_options\n"
     ]
    }
   ],
   "source": [
    "data_temp_100 = get_products(root_urls, 100, 20)"
   ]
  },
  {
   "cell_type": "code",
   "execution_count": 127,
   "metadata": {},
   "outputs": [
    {
     "data": {
      "text/plain": [
       "300"
      ]
     },
     "execution_count": 127,
     "metadata": {},
     "output_type": "execute_result"
    }
   ],
   "source": [
    "len(data_temp_100)"
   ]
  },
  {
   "cell_type": "code",
   "execution_count": 182,
   "metadata": {
    "scrolled": true
   },
   "outputs": [
    {
     "data": {
      "text/plain": [
       "[{'product_url': 'https://www.seoulstore.com/products/1205054/detail',\n",
       "  'img_url': 'https://images.seoulstore.com/products/03b5847cfda1300fc364d32ac1562c2b.jpg?d=640xauto',\n",
       "  'category': '상의',\n",
       "  'channel': '꼼파뇨',\n",
       "  'product_name': '[16수] 핸드포크 타투 반팔 화이트',\n",
       "  'price_discount': '34% 29,700'},\n",
       " {'product_url': 'https://www.seoulstore.com/products/1205043/detail',\n",
       "  'img_url': 'https://images.seoulstore.com/products/4d1195ce714fee69a64ba61f4ccebbd9.jpg?d=640xauto',\n",
       "  'category': '상의',\n",
       "  'channel': '꼼파뇨',\n",
       "  'product_name': '[16수] LA MIA PIZZA 반팔 크림',\n",
       "  'price_discount': '34% 29,700'}]"
      ]
     },
     "execution_count": 182,
     "metadata": {},
     "output_type": "execute_result"
    }
   ],
   "source": [
    "data_temp_100[:2]"
   ]
  },
  {
   "cell_type": "code",
   "execution_count": 186,
   "metadata": {},
   "outputs": [
    {
     "data": {
      "text/plain": [
       "'[{\"product_url\": \"https://www.seoulstore.com/products/1205054/detail\", \"img_url\": \"https://images.seoulstore.com/products/03b5847cfda1300fc364d32ac1562c2b.jpg?d=640xauto\", \"category\": \"상의\", \"channel\": \"꼼파뇨\", \"product_name\": \"[16수] 핸드포크 타투 반팔 화이트\", \"price_discount\": \"34% 29,700\"}, {\"product_url\": \"https://www.seoulstore.com/products/1205043/detail\", \"img_url\": \"https://images.seoulstore.com/products/4d1195ce714fee69a64ba61f4ccebbd9.jpg?d=640xauto\", \"category\": \"상의\", \"channel\": \"꼼파뇨\", \"product_nam'"
      ]
     },
     "execution_count": 186,
     "metadata": {},
     "output_type": "execute_result"
    }
   ],
   "source": [
    "data_temp_100_json[:500]"
   ]
  },
  {
   "cell_type": "code",
   "execution_count": 20,
   "metadata": {},
   "outputs": [
    {
     "data": {
      "text/plain": [
       "30"
      ]
     },
     "execution_count": 20,
     "metadata": {},
     "output_type": "execute_result"
    }
   ],
   "source": [
    "len(data)"
   ]
  },
  {
   "cell_type": "code",
   "execution_count": null,
   "metadata": {},
   "outputs": [],
   "source": [
    "# 서울스토어가 처음 페이지 로딩 시 상품페이지 자체가 로딩 안 되는 현상 발견\n",
    "# 어느 정도 스크롤 후, 로딩할 리스트가 더 있음에도 스크롤이 안 되는 현상 발견\n",
    "# 따라서 스크롤 방식을 위에서 아래로 변경. \n",
    "browser.execute_script(\"window.scrollTo(0, document.body.scrollHeight);\")\n",
    "body.send_keys(Keys.PAGE_DOWN)\n",
    "body.send_keys(Keys.END)"
   ]
  },
  {
   "cell_type": "code",
   "execution_count": 166,
   "metadata": {
    "scrolled": false
   },
   "outputs": [
    {
     "name": "stderr",
     "output_type": "stream",
     "text": [
      "C:\\Anaconda3\\envs\\py36\\lib\\site-packages\\ipykernel_launcher.py:23: DeprecationWarning: use options instead of chrome_options\n"
     ]
    }
   ],
   "source": [
    "output(get_products(root_urls, 100, 60), 'tong_100',True)"
   ]
  },
  {
   "cell_type": "code",
   "execution_count": null,
   "metadata": {},
   "outputs": [
    {
     "name": "stderr",
     "output_type": "stream",
     "text": [
      "C:\\Anaconda3\\envs\\py36\\lib\\site-packages\\ipykernel_launcher.py:25: DeprecationWarning: use options instead of chrome_options\n"
     ]
    }
   ],
   "source": [
    "output(get_products(root_urls, 3000, 60), 'tong_3000',True)"
   ]
  },
  {
   "cell_type": "code",
   "execution_count": null,
   "metadata": {},
   "outputs": [],
   "source": []
  }
 ],
 "metadata": {
  "kernelspec": {
   "display_name": "Python 3",
   "language": "python",
   "name": "python3"
  },
  "language_info": {
   "codemirror_mode": {
    "name": "ipython",
    "version": 3
   },
   "file_extension": ".py",
   "mimetype": "text/x-python",
   "name": "python",
   "nbconvert_exporter": "python",
   "pygments_lexer": "ipython3",
   "version": "3.6.10"
  }
 },
 "nbformat": 4,
 "nbformat_minor": 2
}
