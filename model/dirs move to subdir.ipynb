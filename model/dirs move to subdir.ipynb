{
 "cells": [
  {
   "cell_type": "code",
   "execution_count": 2,
   "metadata": {},
   "outputs": [],
   "source": [
    "def sub_dir(o_dir, n_dir):\n",
    "    '''\n",
    "    함수 설명\n",
    "    Arguments:\n",
    "    - o_dir: old directory. 뎁스 바꿔주고 싶은 이미지 폴더(루트)\n",
    "    e.g. ‘../../img/mmfashion’\n",
    "    -n_dir: new directory. 새로운 폴더명. 아무거나 상관없음\n",
    "    e.g. ‘../../img/mmfashion_flow’\n",
    "    Return:\n",
    "    없음\n",
    "    '''\n",
    "    dirlist=os.listdir(o_dir)\n",
    "    for i in dirlist:\n",
    "        if not os.path.exists(n_dir):\n",
    "            os.mkdir(n_dir)\n",
    "        if not os.path.exists(n_dir+'/'+i) :\n",
    "            os.mkdir(n_dir+'/'+i)\n",
    "        shutil.move(o_dir+'/'+i,n_dir+'/'+i)"
   ]
  },
  {
   "cell_type": "code",
   "execution_count": 3,
   "metadata": {},
   "outputs": [],
   "source": [
    "import os, shutil\n",
    "sub_dir('img','img_moved2')"
   ]
  },
  {
   "cell_type": "code",
   "execution_count": null,
   "metadata": {},
   "outputs": [],
   "source": []
  }
 ],
 "metadata": {
  "kernelspec": {
   "display_name": "Python [conda env:tensorflow2_p36] *",
   "language": "python",
   "name": "conda-env-tensorflow2_p36-py"
  },
  "language_info": {
   "codemirror_mode": {
    "name": "ipython",
    "version": 3
   },
   "file_extension": ".py",
   "mimetype": "text/x-python",
   "name": "python",
   "nbconvert_exporter": "python",
   "pygments_lexer": "ipython3",
   "version": "3.6.5"
  }
 },
 "nbformat": 4,
 "nbformat_minor": 2
}
