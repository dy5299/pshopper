{
 "cells": [
  {
   "cell_type": "markdown",
   "metadata": {},
   "source": [
    "https://towardsdatascience.com/lossless-triplet-loss-7e932f990b24 참조"
   ]
  },
  {
   "cell_type": "code",
   "execution_count": 1,
   "metadata": {},
   "outputs": [],
   "source": [
    "import tensorflow as tf"
   ]
  },
  {
   "cell_type": "code",
   "execution_count": 2,
   "metadata": {},
   "outputs": [
    {
     "name": "stderr",
     "output_type": "stream",
     "text": [
      "Using TensorFlow backend.\n"
     ]
    }
   ],
   "source": [
    "from keras import backend as K\n",
    "from keras.layers import Input, BatchNormalization, LSTM, Dense, concatenate, Conv2D, MaxPooling2D, Flatten\n",
    "from keras.optimizers import Adam, SGD\n",
    "from keras.models import Model, Sequential\n",
    "from keras.utils import plot_model\n",
    "from keras.preprocessing.image import ImageDataGenerator\n",
    "\n",
    "import numpy as np\n",
    "import random\n",
    "import matplotlib.pyplot as plt\n",
    "import os\n",
    "import cv2\n",
    "import json"
   ]
  },
  {
   "cell_type": "code",
   "execution_count": 3,
   "metadata": {},
   "outputs": [
    {
     "data": {
      "text/plain": [
       "'1.15.0'"
      ]
     },
     "execution_count": 3,
     "metadata": {},
     "output_type": "execute_result"
    }
   ],
   "source": [
    "tf.__version__"
   ]
  },
  {
   "cell_type": "markdown",
   "metadata": {},
   "source": [
    "# 1. Define loss & base network\n",
    "- 두 가지 loss 함수\n",
    "    - `triplet_loss`\n",
    "        - 출처: https://thelonenutblog.wordpress.com/2017/12/18/what-siamese-dreams-are-made-of/\n",
    "    - `lossless_triplet_loss`\n",
    "        - 출처: https://towardsdatascience.com/lossless-triplet-loss-7e932f990b24"
   ]
  },
  {
   "cell_type": "code",
   "execution_count": 4,
   "metadata": {},
   "outputs": [],
   "source": [
    "def triplet_loss(y_true, y_pred, N=128, alpha = 0.2):\n",
    "    \"\"\"\n",
    "    Implementation of the triplet loss function\n",
    "    Arguments:\n",
    "    y_true -- true labels, required when you define a loss in Keras, not used in this function.\n",
    "    y_pred -- python list containing three objects:\n",
    "            anchor:   the encodings for the anchor data\n",
    "            positive: the encodings for the positive data (similar to anchor)\n",
    "            negative: the encodings for the negative data (different from anchor)\n",
    "    Returns:\n",
    "    loss -- real number, value of the loss\n",
    "    \"\"\"\n",
    "    anchor = tf.convert_to_tensor(y_pred[:,0:N])\n",
    "    positive = tf.convert_to_tensor(y_pred[:,N:N*2]) \n",
    "    negative = tf.convert_to_tensor(y_pred[:,N*2:N*3])\n",
    "    \n",
    "    # distance between the anchor and the positive\n",
    "    pos_dist = tf.reduce_sum(tf.square(tf.subtract(anchor,positive)))\n",
    "\n",
    "    # distance between the anchor and the negative\n",
    "    neg_dist = tf.reduce_sum(tf.square(tf.subtract(anchor,negative)))\n",
    "\n",
    "    # compute loss\n",
    "    basic_loss = pos_dist-neg_dist + alpha\n",
    "\n",
    "    loss = tf.maximum(basic_loss,0.0)\n",
    "\n",
    "    return loss"
   ]
  },
  {
   "cell_type": "code",
   "execution_count": 5,
   "metadata": {},
   "outputs": [],
   "source": [
    "def lossless_triplet_loss(y_true, y_pred, N=128, beta=128, epsilon=1e-8):\n",
    "    \"\"\"\n",
    "    Implementation of the triplet loss function\n",
    "    \n",
    "    Arguments:\n",
    "    y_true -- true labels, required when you define a loss in Keras, you don't need it in this function.\n",
    "    y_pred -- python list containing three objects:\n",
    "            anchor -- the encodings for the anchor data\n",
    "            positive -- the encodings for the positive data (similar to anchor)\n",
    "            negative -- the encodings for the negative data (different from anchor)\n",
    "    N  --  The number of dimension \n",
    "    beta -- The scaling factor, N is recommended\n",
    "    epsilon -- The Epsilon value to prevent ln(0)\n",
    "    \n",
    "    \n",
    "    Returns:\n",
    "    loss -- real number, value of the loss\n",
    "    \"\"\"\n",
    "    anchor = tf.convert_to_tensor(y_pred[:,0:N])\n",
    "    positive = tf.convert_to_tensor(y_pred[:,N:N*2]) \n",
    "    negative = tf.convert_to_tensor(y_pred[:,N*2:N*3])\n",
    "    \n",
    "    # distance between the anchor and the positive\n",
    "    pos_dist = tf.reduce_sum(tf.square(tf.subtract(anchor,positive)),1)\n",
    "    # distance between the anchor and the negative\n",
    "    neg_dist = tf.reduce_sum(tf.square(tf.subtract(anchor,negative)),1)\n",
    "    \n",
    "    #Non Linear Values  \n",
    "    \n",
    "    # -ln(-x/N+1)\n",
    "    pos_dist = -tf.math.log(-tf.divide((pos_dist),beta)+1+epsilon)\n",
    "    neg_dist = -tf.math.log(-tf.divide((N-neg_dist),beta)+1+epsilon)\n",
    "    \n",
    "    # compute loss\n",
    "    loss = neg_dist + pos_dist\n",
    "    \n",
    "    \n",
    "    return loss"
   ]
  },
  {
   "cell_type": "code",
   "execution_count": 6,
   "metadata": {},
   "outputs": [],
   "source": [
    "def cnn_base_network(in_dims, out_dims):\n",
    "    model = Sequential()\n",
    "\n",
    "    model.add(Conv2D(input_shape = in_dims,\n",
    "                     filters = 10, kernel_size = (3,3), strides = (1,1), padding = 'same', activation='relu'))\n",
    "\n",
    "    model.add(Conv2D(64, (3, 3), activation='relu'))\n",
    "    model.add(MaxPooling2D(pool_size=(2, 2)))\n",
    "    \n",
    "    model.add(Conv2D(32, (3, 3), activation='relu'))\n",
    "    \n",
    "    model.add(Conv2D(64, (3, 3), activation='relu'))\n",
    "    model.add(MaxPooling2D(pool_size=(2, 2)))\n",
    "    \n",
    "    model.add(Conv2D(32, (3, 3), activation='relu'))\n",
    "    model.add(MaxPooling2D(pool_size=(2, 2)))\n",
    "\n",
    "    model.add(Flatten())    #1차원화\n",
    "\n",
    "    model.add(Dense(32, activation = 'relu'))\n",
    "    model.add(Dense(out_dims, activation = 'sigmoid'))\n",
    "\n",
    "    return model"
   ]
  },
  {
   "cell_type": "markdown",
   "metadata": {},
   "source": [
    "# 2. Define input generator"
   ]
  },
  {
   "cell_type": "code",
   "execution_count": 7,
   "metadata": {},
   "outputs": [],
   "source": [
    "data_dir = '../../../../../Documents/pshopper/mmfashion/data/Attr_Predict/Img_fortest'   #클래스 5개만 있는 테스트 디렉토리"
   ]
  },
  {
   "cell_type": "code",
   "execution_count": 8,
   "metadata": {},
   "outputs": [
    {
     "data": {
      "text/plain": [
       "['Abstract_Brushstroke_Pocket_Top',\n",
       " 'Abstract_Diamond_Print_Dress',\n",
       " 'Abstract_Ombre_Capri_Leggings',\n",
       " 'Abstract_Print_French_Terry_Shorts',\n",
       " 'Abstract_Tile_Fringe-Trimmed_Kimono']"
      ]
     },
     "execution_count": 8,
     "metadata": {},
     "output_type": "execute_result"
    }
   ],
   "source": [
    "os.listdir(data_dir)"
   ]
  },
  {
   "cell_type": "code",
   "execution_count": 9,
   "metadata": {},
   "outputs": [],
   "source": [
    "CLASS_DICT = {k:v for k, v in enumerate(os.listdir(data_dir))}"
   ]
  },
  {
   "cell_type": "code",
   "execution_count": 10,
   "metadata": {},
   "outputs": [
    {
     "data": {
      "text/plain": [
       "{0: 'Abstract_Brushstroke_Pocket_Top',\n",
       " 1: 'Abstract_Diamond_Print_Dress',\n",
       " 2: 'Abstract_Ombre_Capri_Leggings',\n",
       " 3: 'Abstract_Print_French_Terry_Shorts',\n",
       " 4: 'Abstract_Tile_Fringe-Trimmed_Kimono'}"
      ]
     },
     "execution_count": 10,
     "metadata": {},
     "output_type": "execute_result"
    }
   ],
   "source": [
    "CLASS_DICT"
   ]
  },
  {
   "cell_type": "code",
   "execution_count": 11,
   "metadata": {},
   "outputs": [],
   "source": [
    "gen = ImageDataGenerator(rescale=1./255)\n",
    "num_classes = len(CLASS_DICT) - 1"
   ]
  },
  {
   "cell_type": "code",
   "execution_count": 12,
   "metadata": {},
   "outputs": [],
   "source": [
    "def listdir_fullpath(d):\n",
    "    return [os.path.join(d, f) for f in os.listdir(d)]"
   ]
  },
  {
   "cell_type": "code",
   "execution_count": 13,
   "metadata": {},
   "outputs": [
    {
     "name": "stdout",
     "output_type": "stream",
     "text": [
      "pos_pool: ['../../../../../Documents/pshopper/mmfashion/data/Attr_Predict/Img_fortest\\\\Abstract_Brushstroke_Pocket_Top\\\\img_00000001.jpg', '../../../../../Documents/pshopper/mmfashion/data/Attr_Predict/Img_fortest\\\\Abstract_Brushstroke_Pocket_Top\\\\img_00000002.jpg', '../../../../../Documents/pshopper/mmfashion/data/Attr_Predict/Img_fortest\\\\Abstract_Brushstroke_Pocket_Top\\\\img_00000003.jpg', '../../../../../Documents/pshopper/mmfashion/data/Attr_Predict/Img_fortest\\\\Abstract_Brushstroke_Pocket_Top\\\\img_00000004.jpg', '../../../../../Documents/pshopper/mmfashion/data/Attr_Predict/Img_fortest\\\\Abstract_Brushstroke_Pocket_Top\\\\img_00000005.jpg', '../../../../../Documents/pshopper/mmfashion/data/Attr_Predict/Img_fortest\\\\Abstract_Brushstroke_Pocket_Top\\\\img_00000006.jpg', '../../../../../Documents/pshopper/mmfashion/data/Attr_Predict/Img_fortest\\\\Abstract_Brushstroke_Pocket_Top\\\\img_00000007.jpg', '../../../../../Documents/pshopper/mmfashion/data/Attr_Predict/Img_fortest\\\\Abstract_Brushstroke_Pocket_Top\\\\img_00000008.jpg', '../../../../../Documents/pshopper/mmfashion/data/Attr_Predict/Img_fortest\\\\Abstract_Brushstroke_Pocket_Top\\\\img_00000009.jpg', '../../../../../Documents/pshopper/mmfashion/data/Attr_Predict/Img_fortest\\\\Abstract_Brushstroke_Pocket_Top\\\\img_00000010.jpg', '../../../../../Documents/pshopper/mmfashion/data/Attr_Predict/Img_fortest\\\\Abstract_Brushstroke_Pocket_Top\\\\img_00000011.jpg', '../../../../../Documents/pshopper/mmfashion/data/Attr_Predict/Img_fortest\\\\Abstract_Brushstroke_Pocket_Top\\\\img_00000012.jpg', '../../../../../Documents/pshopper/mmfashion/data/Attr_Predict/Img_fortest\\\\Abstract_Brushstroke_Pocket_Top\\\\img_00000013.jpg', '../../../../../Documents/pshopper/mmfashion/data/Attr_Predict/Img_fortest\\\\Abstract_Brushstroke_Pocket_Top\\\\img_00000014.jpg', '../../../../../Documents/pshopper/mmfashion/data/Attr_Predict/Img_fortest\\\\Abstract_Brushstroke_Pocket_Top\\\\img_00000015.jpg', '../../../../../Documents/pshopper/mmfashion/data/Attr_Predict/Img_fortest\\\\Abstract_Brushstroke_Pocket_Top\\\\img_00000016.jpg', '../../../../../Documents/pshopper/mmfashion/data/Attr_Predict/Img_fortest\\\\Abstract_Brushstroke_Pocket_Top\\\\img_00000017.jpg', '../../../../../Documents/pshopper/mmfashion/data/Attr_Predict/Img_fortest\\\\Abstract_Brushstroke_Pocket_Top\\\\img_00000018.jpg', '../../../../../Documents/pshopper/mmfashion/data/Attr_Predict/Img_fortest\\\\Abstract_Brushstroke_Pocket_Top\\\\img_00000019.jpg', '../../../../../Documents/pshopper/mmfashion/data/Attr_Predict/Img_fortest\\\\Abstract_Brushstroke_Pocket_Top\\\\img_00000020.jpg', '../../../../../Documents/pshopper/mmfashion/data/Attr_Predict/Img_fortest\\\\Abstract_Brushstroke_Pocket_Top\\\\img_00000021.jpg', '../../../../../Documents/pshopper/mmfashion/data/Attr_Predict/Img_fortest\\\\Abstract_Brushstroke_Pocket_Top\\\\img_00000022.jpg', '../../../../../Documents/pshopper/mmfashion/data/Attr_Predict/Img_fortest\\\\Abstract_Brushstroke_Pocket_Top\\\\img_00000023.jpg', '../../../../../Documents/pshopper/mmfashion/data/Attr_Predict/Img_fortest\\\\Abstract_Brushstroke_Pocket_Top\\\\img_00000024.jpg', '../../../../../Documents/pshopper/mmfashion/data/Attr_Predict/Img_fortest\\\\Abstract_Brushstroke_Pocket_Top\\\\img_00000025.jpg', '../../../../../Documents/pshopper/mmfashion/data/Attr_Predict/Img_fortest\\\\Abstract_Brushstroke_Pocket_Top\\\\img_00000026.jpg', '../../../../../Documents/pshopper/mmfashion/data/Attr_Predict/Img_fortest\\\\Abstract_Brushstroke_Pocket_Top\\\\img_00000027.jpg', '../../../../../Documents/pshopper/mmfashion/data/Attr_Predict/Img_fortest\\\\Abstract_Brushstroke_Pocket_Top\\\\img_00000028.jpg', '../../../../../Documents/pshopper/mmfashion/data/Attr_Predict/Img_fortest\\\\Abstract_Brushstroke_Pocket_Top\\\\img_00000029.jpg', '../../../../../Documents/pshopper/mmfashion/data/Attr_Predict/Img_fortest\\\\Abstract_Brushstroke_Pocket_Top\\\\img_00000030.jpg', '../../../../../Documents/pshopper/mmfashion/data/Attr_Predict/Img_fortest\\\\Abstract_Brushstroke_Pocket_Top\\\\img_00000031.jpg', '../../../../../Documents/pshopper/mmfashion/data/Attr_Predict/Img_fortest\\\\Abstract_Brushstroke_Pocket_Top\\\\img_00000032.jpg', '../../../../../Documents/pshopper/mmfashion/data/Attr_Predict/Img_fortest\\\\Abstract_Brushstroke_Pocket_Top\\\\img_00000033.jpg', '../../../../../Documents/pshopper/mmfashion/data/Attr_Predict/Img_fortest\\\\Abstract_Brushstroke_Pocket_Top\\\\img_00000034.jpg', '../../../../../Documents/pshopper/mmfashion/data/Attr_Predict/Img_fortest\\\\Abstract_Brushstroke_Pocket_Top\\\\img_00000035.jpg', '../../../../../Documents/pshopper/mmfashion/data/Attr_Predict/Img_fortest\\\\Abstract_Brushstroke_Pocket_Top\\\\img_00000036.jpg', '../../../../../Documents/pshopper/mmfashion/data/Attr_Predict/Img_fortest\\\\Abstract_Brushstroke_Pocket_Top\\\\img_00000037.jpg']\n",
      "neg_pool: ['../../../../../Documents/pshopper/mmfashion/data/Attr_Predict/Img_fortest\\\\Abstract_Ombre_Capri_Leggings\\\\img_00000001.jpg', '../../../../../Documents/pshopper/mmfashion/data/Attr_Predict/Img_fortest\\\\Abstract_Ombre_Capri_Leggings\\\\img_00000002.jpg', '../../../../../Documents/pshopper/mmfashion/data/Attr_Predict/Img_fortest\\\\Abstract_Ombre_Capri_Leggings\\\\img_00000003.jpg', '../../../../../Documents/pshopper/mmfashion/data/Attr_Predict/Img_fortest\\\\Abstract_Ombre_Capri_Leggings\\\\img_00000004.jpg', '../../../../../Documents/pshopper/mmfashion/data/Attr_Predict/Img_fortest\\\\Abstract_Ombre_Capri_Leggings\\\\img_00000005.jpg', '../../../../../Documents/pshopper/mmfashion/data/Attr_Predict/Img_fortest\\\\Abstract_Ombre_Capri_Leggings\\\\img_00000006.jpg', '../../../../../Documents/pshopper/mmfashion/data/Attr_Predict/Img_fortest\\\\Abstract_Ombre_Capri_Leggings\\\\img_00000007.jpg', '../../../../../Documents/pshopper/mmfashion/data/Attr_Predict/Img_fortest\\\\Abstract_Ombre_Capri_Leggings\\\\img_00000008.jpg', '../../../../../Documents/pshopper/mmfashion/data/Attr_Predict/Img_fortest\\\\Abstract_Ombre_Capri_Leggings\\\\img_00000009.jpg', '../../../../../Documents/pshopper/mmfashion/data/Attr_Predict/Img_fortest\\\\Abstract_Ombre_Capri_Leggings\\\\img_00000010.jpg', '../../../../../Documents/pshopper/mmfashion/data/Attr_Predict/Img_fortest\\\\Abstract_Ombre_Capri_Leggings\\\\img_00000011.jpg', '../../../../../Documents/pshopper/mmfashion/data/Attr_Predict/Img_fortest\\\\Abstract_Ombre_Capri_Leggings\\\\img_00000012.jpg', '../../../../../Documents/pshopper/mmfashion/data/Attr_Predict/Img_fortest\\\\Abstract_Ombre_Capri_Leggings\\\\img_00000013.jpg', '../../../../../Documents/pshopper/mmfashion/data/Attr_Predict/Img_fortest\\\\Abstract_Ombre_Capri_Leggings\\\\img_00000014.jpg', '../../../../../Documents/pshopper/mmfashion/data/Attr_Predict/Img_fortest\\\\Abstract_Ombre_Capri_Leggings\\\\img_00000015.jpg', '../../../../../Documents/pshopper/mmfashion/data/Attr_Predict/Img_fortest\\\\Abstract_Ombre_Capri_Leggings\\\\img_00000016.jpg', '../../../../../Documents/pshopper/mmfashion/data/Attr_Predict/Img_fortest\\\\Abstract_Ombre_Capri_Leggings\\\\img_00000017.jpg', '../../../../../Documents/pshopper/mmfashion/data/Attr_Predict/Img_fortest\\\\Abstract_Ombre_Capri_Leggings\\\\img_00000018.jpg', '../../../../../Documents/pshopper/mmfashion/data/Attr_Predict/Img_fortest\\\\Abstract_Ombre_Capri_Leggings\\\\img_00000019.jpg', '../../../../../Documents/pshopper/mmfashion/data/Attr_Predict/Img_fortest\\\\Abstract_Ombre_Capri_Leggings\\\\img_00000020.jpg', '../../../../../Documents/pshopper/mmfashion/data/Attr_Predict/Img_fortest\\\\Abstract_Ombre_Capri_Leggings\\\\img_00000021.jpg', '../../../../../Documents/pshopper/mmfashion/data/Attr_Predict/Img_fortest\\\\Abstract_Ombre_Capri_Leggings\\\\img_00000022.jpg', '../../../../../Documents/pshopper/mmfashion/data/Attr_Predict/Img_fortest\\\\Abstract_Ombre_Capri_Leggings\\\\img_00000023.jpg', '../../../../../Documents/pshopper/mmfashion/data/Attr_Predict/Img_fortest\\\\Abstract_Ombre_Capri_Leggings\\\\img_00000024.jpg', '../../../../../Documents/pshopper/mmfashion/data/Attr_Predict/Img_fortest\\\\Abstract_Ombre_Capri_Leggings\\\\img_00000025.jpg', '../../../../../Documents/pshopper/mmfashion/data/Attr_Predict/Img_fortest\\\\Abstract_Ombre_Capri_Leggings\\\\img_00000026.jpg', '../../../../../Documents/pshopper/mmfashion/data/Attr_Predict/Img_fortest\\\\Abstract_Ombre_Capri_Leggings\\\\img_00000027.jpg', '../../../../../Documents/pshopper/mmfashion/data/Attr_Predict/Img_fortest\\\\Abstract_Ombre_Capri_Leggings\\\\img_00000028.jpg', '../../../../../Documents/pshopper/mmfashion/data/Attr_Predict/Img_fortest\\\\Abstract_Ombre_Capri_Leggings\\\\img_00000029.jpg', '../../../../../Documents/pshopper/mmfashion/data/Attr_Predict/Img_fortest\\\\Abstract_Ombre_Capri_Leggings\\\\img_00000030.jpg', '../../../../../Documents/pshopper/mmfashion/data/Attr_Predict/Img_fortest\\\\Abstract_Ombre_Capri_Leggings\\\\img_00000031.jpg', '../../../../../Documents/pshopper/mmfashion/data/Attr_Predict/Img_fortest\\\\Abstract_Ombre_Capri_Leggings\\\\img_00000032.jpg', '../../../../../Documents/pshopper/mmfashion/data/Attr_Predict/Img_fortest\\\\Abstract_Ombre_Capri_Leggings\\\\img_00000033.jpg', '../../../../../Documents/pshopper/mmfashion/data/Attr_Predict/Img_fortest\\\\Abstract_Ombre_Capri_Leggings\\\\img_00000034.jpg', '../../../../../Documents/pshopper/mmfashion/data/Attr_Predict/Img_fortest\\\\Abstract_Ombre_Capri_Leggings\\\\img_00000035.jpg', '../../../../../Documents/pshopper/mmfashion/data/Attr_Predict/Img_fortest\\\\Abstract_Ombre_Capri_Leggings\\\\img_00000036.jpg', '../../../../../Documents/pshopper/mmfashion/data/Attr_Predict/Img_fortest\\\\Abstract_Ombre_Capri_Leggings\\\\img_00000037.jpg', '../../../../../Documents/pshopper/mmfashion/data/Attr_Predict/Img_fortest\\\\Abstract_Ombre_Capri_Leggings\\\\img_00000038.jpg', '../../../../../Documents/pshopper/mmfashion/data/Attr_Predict/Img_fortest\\\\Abstract_Ombre_Capri_Leggings\\\\img_00000039.jpg', '../../../../../Documents/pshopper/mmfashion/data/Attr_Predict/Img_fortest\\\\Abstract_Ombre_Capri_Leggings\\\\img_00000040.jpg', '../../../../../Documents/pshopper/mmfashion/data/Attr_Predict/Img_fortest\\\\Abstract_Ombre_Capri_Leggings\\\\img_00000041.jpg', '../../../../../Documents/pshopper/mmfashion/data/Attr_Predict/Img_fortest\\\\Abstract_Ombre_Capri_Leggings\\\\img_00000042.jpg', '../../../../../Documents/pshopper/mmfashion/data/Attr_Predict/Img_fortest\\\\Abstract_Ombre_Capri_Leggings\\\\img_00000043.jpg', '../../../../../Documents/pshopper/mmfashion/data/Attr_Predict/Img_fortest\\\\Abstract_Ombre_Capri_Leggings\\\\img_00000044.jpg', '../../../../../Documents/pshopper/mmfashion/data/Attr_Predict/Img_fortest\\\\Abstract_Ombre_Capri_Leggings\\\\img_00000045.jpg']\n"
     ]
    }
   ],
   "source": [
    "anchor_label, neg_label = random.sample(range(num_classes), 2)\n",
    "\n",
    "POS_POOL = listdir_fullpath(os.path.join(data_dir, CLASS_DICT[anchor_label]))\n",
    "NEG_POOL = listdir_fullpath(os.path.join(data_dir, CLASS_DICT[neg_label]))\n",
    "\n",
    "print('pos_pool: {}'.format(POS_POOL))\n",
    "print('neg_pool: {}'.format(NEG_POOL))"
   ]
  },
  {
   "cell_type": "code",
   "execution_count": 15,
   "metadata": {},
   "outputs": [],
   "source": [
    "def input_triplet_gen(gen, data_dir, num_classes, batch_size):\n",
    "    \n",
    "    anchor_label, neg_label = random.sample(range(1, num_classes+1), 2)\n",
    "    \n",
    "    POS_DIR = os.path.join(data_dir, CLASS_DICT[anchor_label])\n",
    "    NEG_DIR = os.path.join(data_dir, CLASS_DICT[neg_label])\n",
    "    \n",
    "    anchor_gen = gen.flow_from_directory(POS_DIR, \n",
    "                                              target_size=(150, 150),\n",
    "                                             batch_size=batch_size)\n",
    "    \n",
    "    pos_gen = gen.flow_from_directory(POS_DIR, \n",
    "                                              target_size=(150, 150),\n",
    "                                             batch_size=batch_size)\n",
    "    \n",
    "    neg_gen = gen.flow_from_directory(NEG_DIR, \n",
    "                                              target_size=(150, 150),\n",
    "                                             batch_size=batch_size)\n",
    "\n",
    "    while True:\n",
    "        X1i = anchor_gen.next()\n",
    "        X2i = pos_gen.next()\n",
    "        X3i = neg_gen.next()\n",
    "        \n",
    "#        if [X1i[0], X2i[0], X3i[0]] == \n",
    "        \n",
    "        yield [X1i[0], X2i[0], X3i[0]], X1i[1]"
   ]
  },
  {
   "cell_type": "markdown",
   "metadata": {},
   "source": [
    "# 3. Create model"
   ]
  },
  {
   "cell_type": "code",
   "execution_count": 15,
   "metadata": {},
   "outputs": [
    {
     "name": "stdout",
     "output_type": "stream",
     "text": [
      "WARNING:tensorflow:From c:\\users\\user\\.conda\\envs\\pshopper\\lib\\site-packages\\keras\\backend\\tensorflow_backend.py:517: The name tf.placeholder is deprecated. Please use tf.compat.v1.placeholder instead.\n",
      "\n",
      "WARNING:tensorflow:From c:\\users\\user\\.conda\\envs\\pshopper\\lib\\site-packages\\keras\\backend\\tensorflow_backend.py:74: The name tf.get_default_graph is deprecated. Please use tf.compat.v1.get_default_graph instead.\n",
      "\n",
      "WARNING:tensorflow:From c:\\users\\user\\.conda\\envs\\pshopper\\lib\\site-packages\\keras\\backend\\tensorflow_backend.py:4138: The name tf.random_uniform is deprecated. Please use tf.random.uniform instead.\n",
      "\n",
      "WARNING:tensorflow:From c:\\users\\user\\.conda\\envs\\pshopper\\lib\\site-packages\\keras\\backend\\tensorflow_backend.py:3976: The name tf.nn.max_pool is deprecated. Please use tf.nn.max_pool2d instead.\n",
      "\n",
      "WARNING:tensorflow:From c:\\users\\user\\.conda\\envs\\pshopper\\lib\\site-packages\\keras\\optimizers.py:790: The name tf.train.Optimizer is deprecated. Please use tf.compat.v1.train.Optimizer instead.\n",
      "\n"
     ]
    }
   ],
   "source": [
    "in_dims = (150, 150, 3)    # (28, 28, 1)\n",
    "out_dims = 128\n",
    "\n",
    "# Create the 3 inputs\n",
    "anchor_in = Input(shape=in_dims, name='anchor')\n",
    "pos_in = Input(shape=in_dims, name='positive')\n",
    "neg_in = Input(shape=in_dims, name='negative')\n",
    "\n",
    "# with tf.compat.v1.Session(config=config):\n",
    "    # Share base network with the 3 inputs\n",
    "base_network = cnn_base_network(in_dims, out_dims)\n",
    "anchor_out = base_network(anchor_in)\n",
    "pos_out = base_network(pos_in)\n",
    "neg_out = base_network(neg_in)\n",
    "    \n",
    "merged_vector = concatenate([anchor_out, pos_out, neg_out], axis=-1)\n",
    "\n",
    "# Define the trainable model\n",
    "model = Model(inputs=[anchor_in, pos_in, neg_in], outputs=merged_vector)\n",
    "model.compile(optimizer=Adam(lr=0.0001),\n",
    "                    loss=lossless_triplet_loss)\n",
    "#tf2되면서 lr -> learning_rate"
   ]
  },
  {
   "cell_type": "code",
   "execution_count": 16,
   "metadata": {
    "scrolled": true
   },
   "outputs": [
    {
     "name": "stdout",
     "output_type": "stream",
     "text": [
      "_________________________________________________________________\n",
      "Layer (type)                 Output Shape              Param #   \n",
      "=================================================================\n",
      "conv2d_1 (Conv2D)            (None, 150, 150, 10)      280       \n",
      "_________________________________________________________________\n",
      "conv2d_2 (Conv2D)            (None, 148, 148, 64)      5824      \n",
      "_________________________________________________________________\n",
      "max_pooling2d_1 (MaxPooling2 (None, 74, 74, 64)        0         \n",
      "_________________________________________________________________\n",
      "conv2d_3 (Conv2D)            (None, 72, 72, 32)        18464     \n",
      "_________________________________________________________________\n",
      "conv2d_4 (Conv2D)            (None, 70, 70, 64)        18496     \n",
      "_________________________________________________________________\n",
      "max_pooling2d_2 (MaxPooling2 (None, 35, 35, 64)        0         \n",
      "_________________________________________________________________\n",
      "conv2d_5 (Conv2D)            (None, 33, 33, 32)        18464     \n",
      "_________________________________________________________________\n",
      "max_pooling2d_3 (MaxPooling2 (None, 16, 16, 32)        0         \n",
      "_________________________________________________________________\n",
      "flatten_1 (Flatten)          (None, 8192)              0         \n",
      "_________________________________________________________________\n",
      "dense_1 (Dense)              (None, 32)                262176    \n",
      "_________________________________________________________________\n",
      "dense_2 (Dense)              (None, 128)               4224      \n",
      "=================================================================\n",
      "Total params: 327,928\n",
      "Trainable params: 327,928\n",
      "Non-trainable params: 0\n",
      "_________________________________________________________________\n"
     ]
    }
   ],
   "source": [
    "base_network.summary()"
   ]
  },
  {
   "cell_type": "code",
   "execution_count": 17,
   "metadata": {
    "scrolled": true
   },
   "outputs": [
    {
     "name": "stdout",
     "output_type": "stream",
     "text": [
      "__________________________________________________________________________________________________\n",
      "Layer (type)                    Output Shape         Param #     Connected to                     \n",
      "==================================================================================================\n",
      "anchor (InputLayer)             (None, 150, 150, 3)  0                                            \n",
      "__________________________________________________________________________________________________\n",
      "positive (InputLayer)           (None, 150, 150, 3)  0                                            \n",
      "__________________________________________________________________________________________________\n",
      "negative (InputLayer)           (None, 150, 150, 3)  0                                            \n",
      "__________________________________________________________________________________________________\n",
      "sequential_1 (Sequential)       (None, 128)          327928      anchor[0][0]                     \n",
      "                                                                 positive[0][0]                   \n",
      "                                                                 negative[0][0]                   \n",
      "__________________________________________________________________________________________________\n",
      "concatenate_1 (Concatenate)     (None, 384)          0           sequential_1[1][0]               \n",
      "                                                                 sequential_1[2][0]               \n",
      "                                                                 sequential_1[3][0]               \n",
      "==================================================================================================\n",
      "Total params: 327,928\n",
      "Trainable params: 327,928\n",
      "Non-trainable params: 0\n",
      "__________________________________________________________________________________________________\n"
     ]
    }
   ],
   "source": [
    "model.summary()"
   ]
  },
  {
   "cell_type": "markdown",
   "metadata": {},
   "source": [
    "# 4. Train"
   ]
  },
  {
   "cell_type": "code",
   "execution_count": 18,
   "metadata": {},
   "outputs": [],
   "source": [
    "batch_size = 1"
   ]
  },
  {
   "cell_type": "code",
   "execution_count": null,
   "metadata": {
    "scrolled": false
   },
   "outputs": [
    {
     "name": "stdout",
     "output_type": "stream",
     "text": [
      "WARNING:tensorflow:From c:\\users\\user\\.conda\\envs\\pshopper\\lib\\site-packages\\keras\\backend\\tensorflow_backend.py:986: The name tf.assign_add is deprecated. Please use tf.compat.v1.assign_add instead.\n",
      "\n",
      "WARNING:tensorflow:From c:\\users\\user\\.conda\\envs\\pshopper\\lib\\site-packages\\keras\\backend\\tensorflow_backend.py:973: The name tf.assign is deprecated. Please use tf.compat.v1.assign instead.\n",
      "\n",
      "WARNING:tensorflow:From c:\\users\\user\\.conda\\envs\\pshopper\\lib\\site-packages\\keras\\backend\\tensorflow_backend.py:2741: The name tf.Session is deprecated. Please use tf.compat.v1.Session instead.\n",
      "\n",
      "Epoch 1/5\n"
     ]
    },
    {
     "name": "stderr",
     "output_type": "stream",
     "text": [
      "Exception in thread Thread-6:\n",
      "Traceback (most recent call last):\n",
      "  File \"c:\\users\\user\\.conda\\envs\\pshopper\\lib\\threading.py\", line 914, in _bootstrap_inner\n",
      "    self.run()\n",
      "  File \"c:\\users\\user\\.conda\\envs\\pshopper\\lib\\threading.py\", line 862, in run\n",
      "    self._target(*self._args, **self._kwargs)\n",
      "  File \"c:\\users\\user\\.conda\\envs\\pshopper\\lib\\site-packages\\keras\\utils\\data_utils.py\", line 666, in _run\n",
      "    with closing(self.executor_fn(_SHARED_SEQUENCES)) as executor:\n",
      "  File \"c:\\users\\user\\.conda\\envs\\pshopper\\lib\\site-packages\\keras\\utils\\data_utils.py\", line 661, in <lambda>\n",
      "    initargs=(seqs, self.random_seed))\n",
      "  File \"c:\\users\\user\\.conda\\envs\\pshopper\\lib\\multiprocessing\\context.py\", line 118, in Pool\n",
      "    context=self.get_context())\n",
      "  File \"c:\\users\\user\\.conda\\envs\\pshopper\\lib\\multiprocessing\\pool.py\", line 174, in __init__\n",
      "    self._repopulate_pool()\n",
      "  File \"c:\\users\\user\\.conda\\envs\\pshopper\\lib\\multiprocessing\\pool.py\", line 239, in _repopulate_pool\n",
      "    w.start()\n",
      "  File \"c:\\users\\user\\.conda\\envs\\pshopper\\lib\\multiprocessing\\process.py\", line 105, in start\n",
      "    self._popen = self._Popen(self)\n",
      "  File \"c:\\users\\user\\.conda\\envs\\pshopper\\lib\\multiprocessing\\context.py\", line 313, in _Popen\n",
      "    return Popen(process_obj)\n",
      "  File \"c:\\users\\user\\.conda\\envs\\pshopper\\lib\\multiprocessing\\popen_spawn_win32.py\", line 66, in __init__\n",
      "    reduction.dump(process_obj, to_child)\n",
      "  File \"c:\\users\\user\\.conda\\envs\\pshopper\\lib\\multiprocessing\\reduction.py\", line 59, in dump\n",
      "    ForkingPickler(file, protocol).dump(obj)\n",
      "TypeError: can't pickle generator objects\n",
      "\n"
     ]
    }
   ],
   "source": [
    "# Training the model\n",
    "H = model.fit_generator(input_triplet_gen(gen, data_dir, num_classes, batch_size), \n",
    "                        steps_per_epoch = 100, \n",
    "                        epochs=5, \n",
    "                        use_multiprocessing=True)"
   ]
  },
  {
   "cell_type": "code",
   "execution_count": null,
   "metadata": {},
   "outputs": [],
   "source": [
    "#결과 확인\n",
    "plt.plot(H.history['loss'])\n",
    "# plt.savefig('./CNN/loss_graph.png')\n",
    "# plt.legend(['loss'], loc = 'upper left')\n",
    "plt.show()"
   ]
  },
  {
   "cell_type": "markdown",
   "metadata": {},
   "source": [
    "# 5. Save model & weights"
   ]
  },
  {
   "cell_type": "code",
   "execution_count": null,
   "metadata": {},
   "outputs": [],
   "source": [
    "model_dir = './trained/lossless_triplet.json'\n",
    "model_weights_dir = './trained/lossless_triplet.h5'"
   ]
  },
  {
   "cell_type": "code",
   "execution_count": null,
   "metadata": {},
   "outputs": [],
   "source": [
    "#Save model\n",
    "model_json = model.to_json()\n",
    "with open(model_dir, \"w\") as json_file : \n",
    "    json_file.write(model_json)\n",
    "\n",
    "#Save weights\n",
    "model.save_weights(model_weights_dir)\n",
    "print(\"Saved model to disk\")"
   ]
  },
  {
   "cell_type": "code",
   "execution_count": null,
   "metadata": {},
   "outputs": [],
   "source": [
    "#Load model & weights\n",
    "from keras.models import model_from_json\n",
    "json_file = open(model_dir, \"r\")\n",
    "loaded_model_json = json_file.read()\n",
    "json_file.close()\n",
    "loaded_model = model_from_json(loaded_model_json)\n",
    "loaded_model.load_weights(model_weights_dir)\n",
    "print(\"Loaded model from disk\")"
   ]
  },
  {
   "cell_type": "markdown",
   "metadata": {},
   "source": [
    "# 6. Application"
   ]
  },
  {
   "cell_type": "code",
   "execution_count": null,
   "metadata": {},
   "outputs": [],
   "source": [
    "def item_to_encoding(item, model):\n",
    "    return model.predict(np.array([item]))"
   ]
  },
  {
   "cell_type": "markdown",
   "metadata": {},
   "source": [
    "## 6.1 Load test data"
   ]
  },
  {
   "cell_type": "code",
   "execution_count": null,
   "metadata": {},
   "outputs": [],
   "source": [
    "test_dir = '../../img/mmfashion_mini'    #클래스 5개만 있는 테스트 디렉토리"
   ]
  },
  {
   "cell_type": "code",
   "execution_count": null,
   "metadata": {},
   "outputs": [],
   "source": [
    "test_batch_size = 2000\n",
    "\n",
    "test_datagen = ImageDataGenerator(rescale=1./255)\n",
    "\n",
    "test_generator = test_datagen.flow_from_directory(\n",
    "                        data_dir,  # this is the target directory\n",
    "                        target_size=(150, 150),  # 모든 이미지의 크기가 150x150로 조정됩니다.\n",
    "                        batch_size=test_batch_size)\n",
    "\n",
    "batch = test_generator.next()\n",
    "images = batch[0]\n",
    "labels = batch[1]\n",
    "\n",
    "# images = images.reshape(-1, 150, 150)\n",
    "labels = np.array([np.argmax(x) for x in labels])"
   ]
  },
  {
   "cell_type": "code",
   "execution_count": null,
   "metadata": {},
   "outputs": [],
   "source": [
    "def get_triplets(x, y, sample_size):\n",
    "    a = []\n",
    "    p = []\n",
    "    n = []\n",
    "    \n",
    "    num_classes = len(set(y))\n",
    "    for _ in range(sample_size):\n",
    "        num1, num2 = random.sample(range(num_classes), 2)\n",
    "        positive_pool = x[np.where(y == num1)[0]]\n",
    "        negative_pool = x[np.where(y == num2)[0]]\n",
    "        num3, num4 = random.sample(range(len(positive_pool)), 2)\n",
    "\n",
    "        anchor = positive_pool[num3]\n",
    "        positive = positive_pool[num4]\n",
    "        negative = negative_pool[random.randint(0, len(negative_pool)-1)]\n",
    "        \n",
    "        a.append(anchor)\n",
    "        p.append(positive)\n",
    "        n.append(negative)\n",
    "        \n",
    "    return np.asarray(a), np.asarray(p), np.asarray(n)"
   ]
  },
  {
   "cell_type": "code",
   "execution_count": null,
   "metadata": {},
   "outputs": [],
   "source": [
    "sample_size = 500\n",
    "t_a, t_p, t_n = get_triplets(images, labels, 500)"
   ]
  },
  {
   "cell_type": "code",
   "execution_count": null,
   "metadata": {
    "scrolled": false
   },
   "outputs": [],
   "source": [
    "count_true = 0\n",
    "for k in range(sample_size):\n",
    "    anchor_encoding = item_to_encoding(t_a[k], base_network)\n",
    "    pos_encoding = item_to_encoding(t_p[k], base_network)\n",
    "    neg_encoding = item_to_encoding(t_n[k], base_network)\n",
    "\n",
    "    anchor_pos_dist = np.linalg.norm(anchor_encoding-pos_encoding)\n",
    "    anchor_neg_dist = np.linalg.norm(anchor_encoding-neg_encoding)\n",
    "\n",
    "    cond = anchor_pos_dist < anchor_neg_dist\n",
    "    \n",
    "    if cond: count_true += 1\n",
    "        \n",
    "    else: \n",
    "        print('---------- wrong embedding : index %d -----------'%k)\n",
    "        plt.imshow(np.hstack([t_a[k, :, :], t_p[k, :, :], t_n[k, :, :]]))\n",
    "        plt.show()\n",
    "        \n",
    "print(\"true: {} false: {}\".format(count_true, sample_size-count_true))\n",
    "print(\"Accuracy: {}\".format(count_true / sample_size))"
   ]
  },
  {
   "cell_type": "code",
   "execution_count": null,
   "metadata": {},
   "outputs": [],
   "source": []
  },
  {
   "cell_type": "code",
   "execution_count": null,
   "metadata": {},
   "outputs": [],
   "source": []
  },
  {
   "cell_type": "code",
   "execution_count": null,
   "metadata": {},
   "outputs": [],
   "source": [
    "def sub_dir(o_dir, n_dir):\n",
    "    \"\"\"\n",
    "    함수 설명\n",
    "    Arguments:\n",
    "    - o_dir: old directory. 뎁스 바꿔주고 싶은 이미지 폴더(루트)\n",
    "    e.g. '../../img/mmfashion'\n",
    "    \n",
    "    -n_dir: new directory. 새로운 폴더명. 아무거나 상관없음\n",
    "    e.g. '../../img/mmfashion_flow'\n",
    "    \n",
    "    Return:\n",
    "    없음\n",
    "    \n",
    "    \"\"\"\n",
    "    dirlist=os.listdir(o_dir)\n",
    "    for i in dirlist:\n",
    "        if not os.path.exists(n_dir):\n",
    "            os.mkdir(n_dir)\n",
    "        if not os.path.exists(n_dir+'/'+i):\n",
    "            os.mkdir(n_dir+'/'+i)\n",
    "        shutil.move(o_dir+\"/\"+i,n_dir+'/'+i)\n",
    "        \n",
    "sub_dir( '../../img/mmfashion',  '../../img/mmfashion_flow')"
   ]
  }
 ],
 "metadata": {
  "kernelspec": {
   "display_name": "Python 3",
   "language": "python",
   "name": "python3"
  },
  "language_info": {
   "codemirror_mode": {
    "name": "ipython",
    "version": 3
   },
   "file_extension": ".py",
   "mimetype": "text/x-python",
   "name": "python",
   "nbconvert_exporter": "python",
   "pygments_lexer": "ipython3",
   "version": "3.5.6"
  },
  "varInspector": {
   "cols": {
    "lenName": 16,
    "lenType": 16,
    "lenVar": 40
   },
   "kernels_config": {
    "python": {
     "delete_cmd_postfix": "",
     "delete_cmd_prefix": "del ",
     "library": "var_list.py",
     "varRefreshCmd": "print(var_dic_list())"
    },
    "r": {
     "delete_cmd_postfix": ") ",
     "delete_cmd_prefix": "rm(",
     "library": "var_list.r",
     "varRefreshCmd": "cat(var_dic_list()) "
    }
   },
   "types_to_exclude": [
    "module",
    "function",
    "builtin_function_or_method",
    "instance",
    "_Feature"
   ],
   "window_display": false
  }
 },
 "nbformat": 4,
 "nbformat_minor": 2
}
