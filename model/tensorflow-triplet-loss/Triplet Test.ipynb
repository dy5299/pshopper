{
 "cells": [
  {
   "cell_type": "code",
   "execution_count": 1,
   "metadata": {},
   "outputs": [
    {
     "name": "stderr",
     "output_type": "stream",
     "text": [
      "Using TensorFlow backend.\n"
     ]
    }
   ],
   "source": [
    "import tensorflow as tf\n",
    "from keras import backend as K\n",
    "from keras.layers import Input, BatchNormalization, LSTM, Dense, concatenate, Conv2D, MaxPooling2D, Flatten\n",
    "from keras.optimizers import Adam, SGD\n",
    "from keras.models import Model, Sequential\n",
    "from keras.preprocessing.image import ImageDataGenerator\n",
    "from keras.utils import plot_model\n",
    "\n",
    "import numpy as np\n",
    "import random\n",
    "import matplotlib.pyplot as plt\n",
    "import os\n",
    "import cv2\n",
    "import json"
   ]
  },
  {
   "cell_type": "code",
   "execution_count": 2,
   "metadata": {},
   "outputs": [],
   "source": [
    "from model.input_fn import train_input_fn\n",
    "from model.input_fn import test_input_fn\n",
    "from model.model_fn import model_fn\n",
    "from model.utils import Params"
   ]
  },
  {
   "cell_type": "code",
   "execution_count": 3,
   "metadata": {},
   "outputs": [
    {
     "name": "stdout",
     "output_type": "stream",
     "text": [
      "[name: \"/device:CPU:0\"\n",
      "device_type: \"CPU\"\n",
      "memory_limit: 268435456\n",
      "locality {\n",
      "}\n",
      "incarnation: 13264027311570553119\n",
      "]\n"
     ]
    }
   ],
   "source": [
    "from tensorflow.python.client import device_lib\n",
    "print(device_lib.list_local_devices())"
   ]
  },
  {
   "cell_type": "markdown",
   "metadata": {},
   "source": [
    "# 1. Define loss & base network\n",
    "- 참고 소스 https://omoindrot.github.io/triplet-loss"
   ]
  },
  {
   "cell_type": "code",
   "execution_count": null,
   "metadata": {},
   "outputs": [],
   "source": [
    "def batch_hard_triplet_loss(labels, embeddings, margin, squared=False):\n",
    "    \"\"\"Build the triplet loss over a batch of embeddings.\n",
    "\n",
    "    For each anchor, we get the hardest positive and hardest negative to form a triplet.\n",
    "\n",
    "    Args:\n",
    "        labels: labels of the batch, of size (batch_size,)\n",
    "        embeddings: tensor of shape (batch_size, embed_dim)\n",
    "        margin: margin for triplet loss\n",
    "        squared: Boolean. If true, output is the pairwise squared euclidean distance matrix.\n",
    "                 If false, output is the pairwise euclidean distance matrix.\n",
    "\n",
    "    Returns:\n",
    "        triplet_loss: scalar tensor containing the triplet loss\n",
    "    \"\"\"\n",
    "    # Get the pairwise distance matrix\n",
    "    pairwise_dist = _pairwise_distances(embeddings, squared=squared)\n",
    "\n",
    "    # For each anchor, get the hardest positive\n",
    "    # First, we need to get a mask for every valid positive (they should have same label)\n",
    "    mask_anchor_positive = _get_anchor_positive_triplet_mask(labels)\n",
    "    mask_anchor_positive = tf.to_float(mask_anchor_positive)\n",
    "\n",
    "    # We put to 0 any element where (a, p) is not valid (valid if a != p and label(a) == label(p))\n",
    "    anchor_positive_dist = tf.multiply(mask_anchor_positive, pairwise_dist)\n",
    "\n",
    "    # shape (batch_size, 1)\n",
    "    hardest_positive_dist = tf.reduce_max(anchor_positive_dist, axis=1, keepdims=True)\n",
    "    tf.summary.scalar(\"hardest_positive_dist\", tf.reduce_mean(hardest_positive_dist))\n",
    "\n",
    "    # For each anchor, get the hardest negative\n",
    "    # First, we need to get a mask for every valid negative (they should have different labels)\n",
    "    mask_anchor_negative = _get_anchor_negative_triplet_mask(labels)\n",
    "    mask_anchor_negative = tf.to_float(mask_anchor_negative)\n",
    "\n",
    "    # We add the maximum value in each row to the invalid negatives (label(a) == label(n))\n",
    "    max_anchor_negative_dist = tf.reduce_max(pairwise_dist, axis=1, keepdims=True)\n",
    "    anchor_negative_dist = pairwise_dist + max_anchor_negative_dist * (1.0 - mask_anchor_negative)\n",
    "\n",
    "    # shape (batch_size,)\n",
    "    hardest_negative_dist = tf.reduce_min(anchor_negative_dist, axis=1, keepdims=True)\n",
    "    tf.summary.scalar(\"hardest_negative_dist\", tf.reduce_mean(hardest_negative_dist))\n",
    "\n",
    "    # Combine biggest d(a, p) and smallest d(a, n) into final triplet loss\n",
    "    triplet_loss = tf.maximum(hardest_positive_dist - hardest_negative_dist + margin, 0.0)\n",
    "\n",
    "    # Get final mean triplet loss\n",
    "    triplet_loss = tf.reduce_mean(triplet_loss)\n",
    "\n",
    "    return triplet_loss"
   ]
  },
  {
   "cell_type": "markdown",
   "metadata": {},
   "source": [
    "# 2. Load data"
   ]
  },
  {
   "cell_type": "code",
   "execution_count": 7,
   "metadata": {},
   "outputs": [],
   "source": [
    "#data_dir = '../../../../../Documents/pshopper/mmfashion/data/Attr_Predict/Img_fortest/'\n",
    "#on my laptop\n",
    "data_dir = '../../../../../../Documents/pshopper/mmfashion/data/Attr_Predict/Img_fortest/'"
   ]
  },
  {
   "cell_type": "code",
   "execution_count": 20,
   "metadata": {
    "scrolled": true
   },
   "outputs": [
    {
     "name": "stdout",
     "output_type": "stream",
     "text": [
      "Found 273 images belonging to 5 classes.\n"
     ]
    }
   ],
   "source": [
    "BATCH_SIZE = 64\n",
    "IMG_DIM = 28\n",
    "#NB_CLASSES = 5620\n",
    "NB_CLASSES = 5\n",
    "\n",
    "train_datagen = ImageDataGenerator(rescale=1./255)\n",
    "\n",
    "train_generator = train_datagen.flow_from_directory(\n",
    "                        data_dir,  # this is the target directory\n",
    "                        target_size=(IMG_DIM, IMG_DIM),\n",
    "                        batch_size=BATCH_SIZE)"
   ]
  },
  {
   "cell_type": "code",
   "execution_count": 21,
   "metadata": {},
   "outputs": [],
   "source": [
    "batch = train_generator.next()\n",
    "images = batch[0]\n",
    "labels = batch[1]\n",
    "\n",
    "# images = images.reshape(-1, 150, 150)\n",
    "labels = np.array([np.argmax(x) for x in labels])"
   ]
  },
  {
   "cell_type": "code",
   "execution_count": 22,
   "metadata": {
    "scrolled": true
   },
   "outputs": [
    {
     "data": {
      "text/plain": [
       "(64, 28, 28, 3)"
      ]
     },
     "execution_count": 22,
     "metadata": {},
     "output_type": "execute_result"
    }
   ],
   "source": [
    "images.shape"
   ]
  },
  {
   "cell_type": "code",
   "execution_count": 23,
   "metadata": {},
   "outputs": [
    {
     "data": {
      "text/plain": [
       "(64,)"
      ]
     },
     "execution_count": 23,
     "metadata": {},
     "output_type": "execute_result"
    }
   ],
   "source": [
    "labels.shape"
   ]
  },
  {
   "cell_type": "markdown",
   "metadata": {},
   "source": [
    "# 3. Create model & Train"
   ]
  },
  {
   "cell_type": "code",
   "execution_count": 39,
   "metadata": {},
   "outputs": [],
   "source": [
    "def input_func_gen():\n",
    "    ds = tf.data.Dataset.from_generator(lambda: train_generator,\n",
    "                     output_types=(tf.float32, tf.float32),\n",
    "                     output_shapes=([None, IMG_DIM, IMG_DIM, 3], [None, NB_CLASSES]))\n",
    "    it = ds.make_one_shot_iterator()        #https://stackoverflow.com/questions/52636127/how-to-use-keras-generator-with-tf-data-api\n",
    "    features, labels = it.get_next()\n",
    "    labels = tf.argmax(labels, axis=1)\n",
    "    return features, labels"
   ]
  },
  {
   "cell_type": "code",
   "execution_count": 40,
   "metadata": {},
   "outputs": [
    {
     "data": {
      "text/plain": [
       "(<tf.Tensor 'IteratorGetNext:0' shape=(?, 28, 28, 3) dtype=float32>,\n",
       " <tf.Tensor 'ArgMax:0' shape=(?,) dtype=int64>)"
      ]
     },
     "execution_count": 40,
     "metadata": {},
     "output_type": "execute_result"
    }
   ],
   "source": [
    "features, labels = input_func_gen()"
   ]
  },
  {
   "cell_type": "code",
   "execution_count": 41,
   "metadata": {},
   "outputs": [],
   "source": [
    "model_dir = 'experiments/batch_hard'\n",
    "\n",
    "json_path = os.path.join(model_dir, 'params.json')\n",
    "\n",
    "params = Params(json_path)"
   ]
  },
  {
   "cell_type": "code",
   "execution_count": 42,
   "metadata": {},
   "outputs": [],
   "source": [
    "K.clear_session()"
   ]
  },
  {
   "cell_type": "code",
   "execution_count": 43,
   "metadata": {},
   "outputs": [],
   "source": [
    "tf.disable_eager_execution()\n",
    "#tf.compat.v1.enable_eager_execution()"
   ]
  },
  {
   "cell_type": "code",
   "execution_count": 44,
   "metadata": {},
   "outputs": [
    {
     "data": {
      "text/plain": [
       "False"
      ]
     },
     "execution_count": 44,
     "metadata": {},
     "output_type": "execute_result"
    }
   ],
   "source": [
    "tf.executing_eagerly()"
   ]
  },
  {
   "cell_type": "code",
   "execution_count": null,
   "metadata": {
    "scrolled": true
   },
   "outputs": [
    {
     "name": "stdout",
     "output_type": "stream",
     "text": [
      "INFO:tensorflow:Creating the model...\n",
      "INFO:tensorflow:Using config: {'_model_dir': 'experiments/batch_hard', '_tf_random_seed': 230, '_save_summary_steps': 50, '_save_checkpoints_steps': None, '_save_checkpoints_secs': 600, '_session_config': allow_soft_placement: true\n",
      "graph_options {\n",
      "  rewrite_options {\n",
      "    meta_optimizer_iterations: ONE\n",
      "  }\n",
      "}\n",
      ", '_keep_checkpoint_max': 5, '_keep_checkpoint_every_n_hours': 10000, '_log_step_count_steps': 100, '_train_distribute': None, '_device_fn': None, '_protocol': None, '_eval_distribute': None, '_experimental_distribute': None, '_experimental_max_worker_delay_secs': None, '_session_creation_timeout_secs': 7200, '_service': None, '_cluster_spec': <tensorflow.python.training.server_lib.ClusterSpec object at 0x000002238AF15198>, '_task_type': 'worker', '_task_id': 0, '_global_id_in_cluster': 0, '_master': '', '_evaluation_master': '', '_is_chief': True, '_num_ps_replicas': 0, '_num_worker_replicas': 1}\n",
      "INFO:tensorflow:Starting training for 10 epoch(s).\n",
      "INFO:tensorflow:Calling model_fn.\n",
      "INFO:tensorflow:Done calling model_fn.\n",
      "INFO:tensorflow:Create CheckpointSaverHook.\n",
      "INFO:tensorflow:Graph was finalized.\n",
      "INFO:tensorflow:Restoring parameters from experiments/batch_hard\\model.ckpt-8268\n",
      "INFO:tensorflow:Running local_init_op.\n",
      "INFO:tensorflow:Done running local_init_op.\n",
      "INFO:tensorflow:Saving checkpoints for 8268 into experiments/batch_hard\\model.ckpt.\n",
      "INFO:tensorflow:loss = 0.9024941, step = 8269\n",
      "INFO:tensorflow:global_step/sec: 13.2192\n",
      "INFO:tensorflow:loss = 0.52351046, step = 8369 (7.569 sec)\n",
      "INFO:tensorflow:global_step/sec: 14.0411\n",
      "INFO:tensorflow:loss = 0.4800892, step = 8469 (7.120 sec)\n",
      "INFO:tensorflow:global_step/sec: 13.3779\n",
      "INFO:tensorflow:loss = 0.34305683, step = 8569 (7.475 sec)\n",
      "INFO:tensorflow:global_step/sec: 12.8696\n",
      "INFO:tensorflow:loss = 0.09256223, step = 8669 (7.770 sec)\n",
      "INFO:tensorflow:global_step/sec: 12.8378\n",
      "INFO:tensorflow:loss = 0.033228558, step = 8769 (7.790 sec)\n",
      "INFO:tensorflow:global_step/sec: 9.47655\n",
      "INFO:tensorflow:loss = 0.00038335705, step = 8869 (10.553 sec)\n",
      "INFO:tensorflow:global_step/sec: 10.0182\n",
      "INFO:tensorflow:loss = 0.00021787826, step = 8969 (9.980 sec)\n",
      "INFO:tensorflow:global_step/sec: 10.5385\n",
      "INFO:tensorflow:loss = 0.0, step = 9069 (9.490 sec)\n",
      "INFO:tensorflow:global_step/sec: 9.56475\n",
      "INFO:tensorflow:loss = 3.6204234e-05, step = 9169 (10.456 sec)\n",
      "INFO:tensorflow:global_step/sec: 9.56333\n",
      "INFO:tensorflow:loss = 0.0, step = 9269 (10.456 sec)\n",
      "INFO:tensorflow:global_step/sec: 12.6077\n",
      "INFO:tensorflow:loss = 0.0, step = 9369 (7.932 sec)\n",
      "INFO:tensorflow:global_step/sec: 11.2766\n",
      "INFO:tensorflow:loss = 0.0, step = 9469 (8.868 sec)\n",
      "INFO:tensorflow:global_step/sec: 12.4942\n",
      "INFO:tensorflow:loss = 0.0, step = 9569 (8.004 sec)\n",
      "INFO:tensorflow:global_step/sec: 8.43121\n",
      "INFO:tensorflow:loss = 0.0, step = 9669 (11.862 sec)\n",
      "INFO:tensorflow:global_step/sec: 8.85474\n",
      "INFO:tensorflow:loss = 0.0, step = 9769 (11.293 sec)\n",
      "INFO:tensorflow:global_step/sec: 7.53132\n",
      "INFO:tensorflow:loss = 0.0, step = 9869 (13.285 sec)\n",
      "INFO:tensorflow:global_step/sec: 7.23862\n",
      "INFO:tensorflow:loss = 0.0, step = 9969 (13.809 sec)\n",
      "INFO:tensorflow:global_step/sec: 7.75207\n",
      "INFO:tensorflow:loss = 0.0, step = 10069 (12.899 sec)\n",
      "INFO:tensorflow:global_step/sec: 9.25991\n",
      "INFO:tensorflow:loss = 0.0, step = 10169 (10.799 sec)\n",
      "INFO:tensorflow:global_step/sec: 9.10728\n",
      "INFO:tensorflow:loss = 0.0, step = 10269 (10.980 sec)\n",
      "INFO:tensorflow:global_step/sec: 8.80641\n",
      "INFO:tensorflow:loss = 0.0, step = 10369 (11.353 sec)\n",
      "INFO:tensorflow:global_step/sec: 11.4656\n",
      "INFO:tensorflow:loss = 0.0, step = 10469 (8.723 sec)\n",
      "INFO:tensorflow:global_step/sec: 10.7545\n",
      "INFO:tensorflow:loss = 0.0, step = 10569 (9.297 sec)\n",
      "INFO:tensorflow:global_step/sec: 9.81212\n",
      "INFO:tensorflow:loss = 0.0, step = 10669 (10.193 sec)\n",
      "INFO:tensorflow:global_step/sec: 9.05433\n",
      "INFO:tensorflow:loss = 0.0, step = 10769 (11.046 sec)\n",
      "INFO:tensorflow:global_step/sec: 7.41757\n",
      "INFO:tensorflow:loss = 0.0, step = 10869 (13.479 sec)\n",
      "INFO:tensorflow:global_step/sec: 12.1845\n",
      "INFO:tensorflow:loss = 0.0, step = 10969 (8.213 sec)\n",
      "INFO:tensorflow:global_step/sec: 11.5958\n",
      "INFO:tensorflow:loss = 0.0, step = 11069 (8.618 sec)\n",
      "INFO:tensorflow:global_step/sec: 11.558\n",
      "INFO:tensorflow:loss = 0.0, step = 11169 (8.652 sec)\n",
      "INFO:tensorflow:global_step/sec: 12.1398\n",
      "INFO:tensorflow:loss = 0.0, step = 11269 (8.237 sec)\n",
      "INFO:tensorflow:global_step/sec: 12.0667\n",
      "INFO:tensorflow:loss = 0.0, step = 11369 (8.286 sec)\n",
      "INFO:tensorflow:global_step/sec: 13.2\n",
      "INFO:tensorflow:loss = 0.0, step = 11469 (7.576 sec)\n",
      "INFO:tensorflow:global_step/sec: 11.7345\n",
      "INFO:tensorflow:loss = 0.0, step = 11569 (8.525 sec)\n",
      "INFO:tensorflow:global_step/sec: 11.1162\n",
      "INFO:tensorflow:loss = 0.0, step = 11669 (8.994 sec)\n",
      "INFO:tensorflow:global_step/sec: 11.8782\n",
      "INFO:tensorflow:loss = 0.0, step = 11769 (8.418 sec)\n",
      "INFO:tensorflow:global_step/sec: 12.451\n",
      "INFO:tensorflow:loss = 0.0, step = 11869 (8.032 sec)\n",
      "INFO:tensorflow:global_step/sec: 12.2986\n",
      "INFO:tensorflow:loss = 0.0, step = 11969 (8.131 sec)\n",
      "INFO:tensorflow:global_step/sec: 11.9715\n",
      "INFO:tensorflow:loss = 0.0, step = 12069 (8.353 sec)\n",
      "INFO:tensorflow:global_step/sec: 12.2115\n",
      "INFO:tensorflow:loss = 0.0, step = 12169 (8.188 sec)\n",
      "INFO:tensorflow:global_step/sec: 11.8658\n",
      "INFO:tensorflow:loss = 0.0, step = 12269 (8.429 sec)\n",
      "INFO:tensorflow:global_step/sec: 10.7369\n",
      "INFO:tensorflow:loss = 0.0, step = 12369 (9.315 sec)\n",
      "INFO:tensorflow:global_step/sec: 12.4677\n",
      "INFO:tensorflow:loss = 0.0, step = 12469 (8.020 sec)\n",
      "INFO:tensorflow:global_step/sec: 11.3615\n",
      "INFO:tensorflow:loss = 0.0, step = 12569 (8.802 sec)\n",
      "INFO:tensorflow:global_step/sec: 11.7912\n",
      "INFO:tensorflow:loss = 0.0, step = 12669 (8.481 sec)\n",
      "INFO:tensorflow:global_step/sec: 12.1563\n",
      "INFO:tensorflow:loss = 0.0, step = 12769 (8.225 sec)\n",
      "INFO:tensorflow:global_step/sec: 12.3564\n",
      "INFO:tensorflow:loss = 0.0, step = 12869 (8.094 sec)\n",
      "INFO:tensorflow:global_step/sec: 9.93764\n",
      "INFO:tensorflow:loss = 0.0, step = 12969 (10.063 sec)\n",
      "INFO:tensorflow:global_step/sec: 11.9522\n",
      "INFO:tensorflow:loss = 0.0, step = 13069 (8.366 sec)\n",
      "INFO:tensorflow:global_step/sec: 12.4478\n",
      "INFO:tensorflow:loss = 0.0, step = 13169 (8.036 sec)\n",
      "INFO:tensorflow:global_step/sec: 12.7713\n",
      "INFO:tensorflow:loss = 0.0, step = 13269 (7.830 sec)\n",
      "INFO:tensorflow:global_step/sec: 12.7437\n",
      "INFO:tensorflow:loss = 0.0, step = 13369 (7.845 sec)\n",
      "INFO:tensorflow:global_step/sec: 13.1451\n",
      "INFO:tensorflow:loss = 0.0, step = 13469 (7.608 sec)\n",
      "INFO:tensorflow:global_step/sec: 12.8548\n",
      "INFO:tensorflow:loss = 0.0, step = 13569 (7.777 sec)\n",
      "INFO:tensorflow:global_step/sec: 10.5047\n",
      "INFO:tensorflow:loss = 0.0, step = 13669 (9.522 sec)\n",
      "INFO:tensorflow:global_step/sec: 10.0037\n",
      "INFO:tensorflow:loss = 0.0, step = 13769 (9.996 sec)\n",
      "INFO:tensorflow:global_step/sec: 12.4447\n",
      "INFO:tensorflow:loss = 0.0, step = 13869 (8.042 sec)\n",
      "INFO:tensorflow:global_step/sec: 11.1756\n",
      "INFO:tensorflow:loss = 0.0, step = 13969 (8.940 sec)\n",
      "INFO:tensorflow:global_step/sec: 12.2801\n",
      "INFO:tensorflow:loss = 0.0, step = 14069 (8.144 sec)\n",
      "INFO:tensorflow:global_step/sec: 12.3058\n",
      "INFO:tensorflow:loss = 0.0, step = 14169 (8.125 sec)\n",
      "INFO:tensorflow:global_step/sec: 12.8334\n",
      "INFO:tensorflow:loss = 0.0, step = 14269 (7.792 sec)\n",
      "INFO:tensorflow:global_step/sec: 12.1819\n",
      "INFO:tensorflow:loss = 0.0, step = 14369 (8.209 sec)\n",
      "INFO:tensorflow:global_step/sec: 11.1001\n",
      "INFO:tensorflow:loss = 0.0, step = 14469 (9.011 sec)\n",
      "INFO:tensorflow:global_step/sec: 11.921\n",
      "INFO:tensorflow:loss = 0.0, step = 14569 (8.387 sec)\n",
      "INFO:tensorflow:global_step/sec: 12.4773\n",
      "INFO:tensorflow:loss = 0.0, step = 14669 (8.015 sec)\n",
      "INFO:tensorflow:global_step/sec: 13.9512\n",
      "INFO:tensorflow:loss = 0.0, step = 14769 (7.168 sec)\n",
      "INFO:tensorflow:global_step/sec: 13.059\n",
      "INFO:tensorflow:loss = 0.0, step = 14869 (7.659 sec)\n",
      "INFO:tensorflow:Saving checkpoints for 14909 into experiments/batch_hard\\model.ckpt.\n",
      "INFO:tensorflow:global_step/sec: 11.121\n",
      "INFO:tensorflow:loss = 0.0, step = 14969 (8.992 sec)\n",
      "INFO:tensorflow:global_step/sec: 12.2952\n",
      "INFO:tensorflow:loss = 0.0, step = 15069 (8.134 sec)\n",
      "INFO:tensorflow:global_step/sec: 13.7881\n",
      "INFO:tensorflow:loss = 0.0, step = 15169 (7.252 sec)\n",
      "INFO:tensorflow:global_step/sec: 10.9444\n",
      "INFO:tensorflow:loss = 0.0, step = 15269 (9.137 sec)\n",
      "INFO:tensorflow:global_step/sec: 10.4023\n"
     ]
    },
    {
     "name": "stdout",
     "output_type": "stream",
     "text": [
      "INFO:tensorflow:loss = 0.0, step = 15369 (9.619 sec)\n",
      "INFO:tensorflow:global_step/sec: 11.385\n",
      "INFO:tensorflow:loss = 0.0, step = 15469 (8.778 sec)\n",
      "INFO:tensorflow:global_step/sec: 12.1669\n",
      "INFO:tensorflow:loss = 0.0, step = 15569 (8.220 sec)\n",
      "INFO:tensorflow:global_step/sec: 11.8393\n",
      "INFO:tensorflow:loss = 0.0, step = 15669 (8.444 sec)\n",
      "INFO:tensorflow:global_step/sec: 12.9077\n",
      "INFO:tensorflow:loss = 0.0, step = 15769 (7.747 sec)\n",
      "INFO:tensorflow:global_step/sec: 11.7081\n",
      "INFO:tensorflow:loss = 0.0, step = 15869 (8.542 sec)\n",
      "INFO:tensorflow:global_step/sec: 12.8845\n",
      "INFO:tensorflow:loss = 0.0, step = 15969 (7.761 sec)\n",
      "INFO:tensorflow:global_step/sec: 12.7082\n",
      "INFO:tensorflow:loss = 0.0, step = 16069 (7.869 sec)\n",
      "INFO:tensorflow:global_step/sec: 12.7957\n",
      "INFO:tensorflow:loss = 0.0, step = 16169 (7.815 sec)\n",
      "INFO:tensorflow:global_step/sec: 11.142\n",
      "INFO:tensorflow:loss = 0.0, step = 16269 (8.975 sec)\n",
      "INFO:tensorflow:global_step/sec: 11.5609\n",
      "INFO:tensorflow:loss = 0.0, step = 16369 (8.651 sec)\n",
      "INFO:tensorflow:global_step/sec: 13.1343\n",
      "INFO:tensorflow:loss = 0.0, step = 16469 (7.613 sec)\n",
      "INFO:tensorflow:global_step/sec: 12.371\n",
      "INFO:tensorflow:loss = 0.0, step = 16569 (8.083 sec)\n",
      "INFO:tensorflow:global_step/sec: 12.0354\n",
      "INFO:tensorflow:loss = 0.0, step = 16669 (8.309 sec)\n",
      "INFO:tensorflow:global_step/sec: 14.1842\n",
      "INFO:tensorflow:loss = 0.0, step = 16769 (7.049 sec)\n",
      "INFO:tensorflow:global_step/sec: 10.8951\n",
      "INFO:tensorflow:loss = 0.0, step = 16869 (9.188 sec)\n",
      "INFO:tensorflow:global_step/sec: 11.8969\n",
      "INFO:tensorflow:loss = 0.0, step = 16969 (8.396 sec)\n",
      "INFO:tensorflow:global_step/sec: 12.5053\n",
      "INFO:tensorflow:loss = 0.0, step = 17069 (7.998 sec)\n",
      "INFO:tensorflow:global_step/sec: 12.1125\n",
      "INFO:tensorflow:loss = 0.0, step = 17169 (8.255 sec)\n",
      "INFO:tensorflow:global_step/sec: 11.9181\n",
      "INFO:tensorflow:loss = 0.0, step = 17269 (8.392 sec)\n",
      "INFO:tensorflow:global_step/sec: 11.3992\n",
      "INFO:tensorflow:loss = 0.0, step = 17369 (8.774 sec)\n",
      "INFO:tensorflow:global_step/sec: 12.6889\n",
      "INFO:tensorflow:loss = 0.0, step = 17469 (7.880 sec)\n",
      "INFO:tensorflow:global_step/sec: 11.2965\n",
      "INFO:tensorflow:loss = 0.0, step = 17569 (8.852 sec)\n",
      "INFO:tensorflow:global_step/sec: 11.4031\n",
      "INFO:tensorflow:loss = 0.0, step = 17669 (8.769 sec)\n",
      "INFO:tensorflow:global_step/sec: 12.4711\n",
      "INFO:tensorflow:loss = 0.0, step = 17769 (8.020 sec)\n",
      "INFO:tensorflow:global_step/sec: 12.3391\n",
      "INFO:tensorflow:loss = 0.0, step = 17869 (8.103 sec)\n",
      "INFO:tensorflow:global_step/sec: 12.7356\n",
      "INFO:tensorflow:loss = 0.0, step = 17969 (7.852 sec)\n",
      "INFO:tensorflow:global_step/sec: 12.2397\n",
      "INFO:tensorflow:loss = 0.0, step = 18069 (8.172 sec)\n",
      "INFO:tensorflow:global_step/sec: 11.6117\n",
      "INFO:tensorflow:loss = 0.0, step = 18169 (8.611 sec)\n",
      "INFO:tensorflow:global_step/sec: 10.6148\n",
      "INFO:tensorflow:loss = 0.0, step = 18269 (9.427 sec)\n",
      "INFO:tensorflow:global_step/sec: 11.2711\n",
      "INFO:tensorflow:loss = 0.0, step = 18369 (8.866 sec)\n",
      "INFO:tensorflow:global_step/sec: 11.1346\n",
      "INFO:tensorflow:loss = 0.0, step = 18469 (8.981 sec)\n",
      "INFO:tensorflow:global_step/sec: 11.6198\n",
      "INFO:tensorflow:loss = 0.0, step = 18569 (8.606 sec)\n",
      "INFO:tensorflow:global_step/sec: 11.81\n",
      "INFO:tensorflow:loss = 0.0, step = 18669 (8.466 sec)\n",
      "INFO:tensorflow:global_step/sec: 11.2281\n",
      "INFO:tensorflow:loss = 0.0, step = 18769 (8.907 sec)\n",
      "INFO:tensorflow:global_step/sec: 13.3583\n",
      "INFO:tensorflow:loss = 0.0, step = 18869 (7.485 sec)\n",
      "INFO:tensorflow:global_step/sec: 12.6776\n",
      "INFO:tensorflow:loss = 0.0, step = 18969 (7.888 sec)\n",
      "INFO:tensorflow:global_step/sec: 11.8863\n",
      "INFO:tensorflow:loss = 0.0, step = 19069 (8.413 sec)\n",
      "INFO:tensorflow:global_step/sec: 11.7327\n",
      "INFO:tensorflow:loss = 0.0, step = 19169 (8.523 sec)\n",
      "INFO:tensorflow:global_step/sec: 10.4565\n",
      "INFO:tensorflow:loss = 0.0, step = 19269 (9.564 sec)\n",
      "INFO:tensorflow:global_step/sec: 11.1569\n",
      "INFO:tensorflow:loss = 0.0, step = 19369 (8.962 sec)\n",
      "INFO:tensorflow:global_step/sec: 12.6456\n",
      "INFO:tensorflow:loss = 0.0, step = 19469 (7.909 sec)\n",
      "INFO:tensorflow:global_step/sec: 9.72902\n",
      "INFO:tensorflow:loss = 0.0, step = 19569 (10.279 sec)\n",
      "INFO:tensorflow:global_step/sec: 12.0804\n",
      "INFO:tensorflow:loss = 0.0, step = 19669 (8.277 sec)\n",
      "INFO:tensorflow:global_step/sec: 10.7525\n",
      "INFO:tensorflow:loss = 0.0, step = 19769 (9.302 sec)\n",
      "INFO:tensorflow:global_step/sec: 10.8785\n",
      "INFO:tensorflow:loss = 0.0, step = 19869 (9.191 sec)\n",
      "INFO:tensorflow:global_step/sec: 10.6498\n",
      "INFO:tensorflow:loss = 0.0, step = 19969 (9.390 sec)\n",
      "INFO:tensorflow:global_step/sec: 11.8927\n",
      "INFO:tensorflow:loss = 0.0, step = 20069 (8.409 sec)\n",
      "INFO:tensorflow:global_step/sec: 9.90197\n",
      "INFO:tensorflow:loss = 0.0, step = 20169 (10.098 sec)\n",
      "INFO:tensorflow:global_step/sec: 11.0451\n",
      "INFO:tensorflow:loss = 0.0, step = 20269 (9.055 sec)\n",
      "INFO:tensorflow:global_step/sec: 11.0793\n",
      "INFO:tensorflow:loss = 0.0, step = 20369 (9.026 sec)\n",
      "INFO:tensorflow:global_step/sec: 10.426\n",
      "INFO:tensorflow:loss = 0.0, step = 20469 (9.591 sec)\n",
      "INFO:tensorflow:global_step/sec: 9.81665\n",
      "INFO:tensorflow:loss = 0.0, step = 20569 (10.187 sec)\n",
      "INFO:tensorflow:global_step/sec: 10.3124\n",
      "INFO:tensorflow:loss = 0.0, step = 20669 (9.697 sec)\n",
      "INFO:tensorflow:global_step/sec: 8.90869\n",
      "INFO:tensorflow:loss = 0.0, step = 20769 (11.225 sec)\n",
      "INFO:tensorflow:global_step/sec: 10.068\n",
      "INFO:tensorflow:loss = 0.0, step = 20869 (9.932 sec)\n",
      "INFO:tensorflow:global_step/sec: 11.5849\n",
      "INFO:tensorflow:loss = 0.0, step = 20969 (8.631 sec)\n",
      "INFO:tensorflow:global_step/sec: 9.29089\n",
      "INFO:tensorflow:loss = 0.0, step = 21069 (10.765 sec)\n",
      "INFO:tensorflow:global_step/sec: 8.61222\n",
      "INFO:tensorflow:loss = 0.0, step = 21169 (11.611 sec)\n",
      "INFO:tensorflow:global_step/sec: 11.1383\n",
      "INFO:tensorflow:loss = 0.0, step = 21269 (8.977 sec)\n",
      "INFO:tensorflow:global_step/sec: 11.8393\n",
      "INFO:tensorflow:loss = 0.0, step = 21369 (8.446 sec)\n",
      "INFO:tensorflow:global_step/sec: 11.1718\n",
      "INFO:tensorflow:loss = 0.0, step = 21469 (8.952 sec)\n",
      "INFO:tensorflow:global_step/sec: 10.6351\n",
      "INFO:tensorflow:loss = 0.0, step = 21569 (9.403 sec)\n",
      "INFO:tensorflow:global_step/sec: 9.9373\n",
      "INFO:tensorflow:loss = 0.0, step = 21669 (10.063 sec)\n",
      "INFO:tensorflow:Saving checkpoints for 21735 into experiments/batch_hard\\model.ckpt.\n",
      "INFO:tensorflow:global_step/sec: 8.83101\n",
      "INFO:tensorflow:loss = 0.0, step = 21769 (11.324 sec)\n",
      "INFO:tensorflow:global_step/sec: 10.0127\n",
      "INFO:tensorflow:loss = 0.0, step = 21869 (9.986 sec)\n",
      "INFO:tensorflow:global_step/sec: 12.5475\n",
      "INFO:tensorflow:loss = 0.0, step = 21969 (7.969 sec)\n",
      "INFO:tensorflow:global_step/sec: 11.6536\n",
      "INFO:tensorflow:loss = 0.0, step = 22069 (8.581 sec)\n",
      "INFO:tensorflow:global_step/sec: 11.345\n",
      "INFO:tensorflow:loss = 0.0, step = 22169 (8.815 sec)\n",
      "INFO:tensorflow:global_step/sec: 11.2156\n",
      "INFO:tensorflow:loss = 0.0, step = 22269 (8.914 sec)\n",
      "INFO:tensorflow:global_step/sec: 11.2031\n",
      "INFO:tensorflow:loss = 0.0, step = 22369 (8.928 sec)\n",
      "INFO:tensorflow:global_step/sec: 11.2698\n",
      "INFO:tensorflow:loss = 0.0, step = 22469 (8.873 sec)\n",
      "INFO:tensorflow:global_step/sec: 11.6077\n",
      "INFO:tensorflow:loss = 0.0, step = 22569 (8.615 sec)\n",
      "INFO:tensorflow:global_step/sec: 11.6671\n",
      "INFO:tensorflow:loss = 0.0, step = 22669 (8.571 sec)\n",
      "INFO:tensorflow:global_step/sec: 12.3148\n",
      "INFO:tensorflow:loss = 0.0, step = 22769 (8.120 sec)\n",
      "INFO:tensorflow:global_step/sec: 11.2244\n",
      "INFO:tensorflow:loss = 0.0, step = 22869 (8.909 sec)\n",
      "INFO:tensorflow:global_step/sec: 11.8087\n",
      "INFO:tensorflow:loss = 0.0, step = 22969 (8.467 sec)\n",
      "INFO:tensorflow:global_step/sec: 10.6611\n",
      "INFO:tensorflow:loss = 0.0, step = 23069 (9.381 sec)\n",
      "INFO:tensorflow:global_step/sec: 12.3178\n",
      "INFO:tensorflow:loss = 0.0, step = 23169 (8.117 sec)\n",
      "INFO:tensorflow:global_step/sec: 9.76982\n",
      "INFO:tensorflow:loss = 0.0, step = 23269 (10.239 sec)\n",
      "INFO:tensorflow:global_step/sec: 9.83109\n",
      "INFO:tensorflow:loss = 0.0, step = 23369 (10.171 sec)\n",
      "INFO:tensorflow:global_step/sec: 9.29951\n",
      "INFO:tensorflow:loss = 0.0, step = 23469 (10.752 sec)\n",
      "INFO:tensorflow:global_step/sec: 9.31333\n",
      "INFO:tensorflow:loss = 0.0, step = 23569 (10.737 sec)\n",
      "INFO:tensorflow:global_step/sec: 10.3764\n",
      "INFO:tensorflow:loss = 0.0, step = 23669 (9.637 sec)\n",
      "INFO:tensorflow:global_step/sec: 12.6472\n",
      "INFO:tensorflow:loss = 0.0, step = 23769 (7.908 sec)\n",
      "INFO:tensorflow:global_step/sec: 12.7975\n",
      "INFO:tensorflow:loss = 0.0, step = 23869 (7.813 sec)\n",
      "INFO:tensorflow:global_step/sec: 10.0207\n",
      "INFO:tensorflow:loss = 0.0, step = 23969 (9.980 sec)\n"
     ]
    },
    {
     "name": "stdout",
     "output_type": "stream",
     "text": [
      "INFO:tensorflow:global_step/sec: 10.6193\n",
      "INFO:tensorflow:loss = 0.0, step = 24069 (9.417 sec)\n",
      "INFO:tensorflow:global_step/sec: 13.1533\n",
      "INFO:tensorflow:loss = 0.0, step = 24169 (7.600 sec)\n",
      "INFO:tensorflow:global_step/sec: 11.5675\n",
      "INFO:tensorflow:loss = 0.0, step = 24269 (8.647 sec)\n",
      "INFO:tensorflow:global_step/sec: 12.5761\n",
      "INFO:tensorflow:loss = 0.0, step = 24369 (7.952 sec)\n",
      "INFO:tensorflow:global_step/sec: 11.0621\n",
      "INFO:tensorflow:loss = 0.0, step = 24469 (9.040 sec)\n",
      "INFO:tensorflow:global_step/sec: 10.7502\n",
      "INFO:tensorflow:loss = 0.0, step = 24569 (9.302 sec)\n",
      "INFO:tensorflow:global_step/sec: 11.4749\n",
      "INFO:tensorflow:loss = 0.0, step = 24669 (8.714 sec)\n",
      "INFO:tensorflow:global_step/sec: 11.6225\n",
      "INFO:tensorflow:loss = 0.0, step = 24769 (8.604 sec)\n",
      "INFO:tensorflow:global_step/sec: 11.4801\n",
      "INFO:tensorflow:loss = 0.0, step = 24869 (8.711 sec)\n",
      "INFO:tensorflow:global_step/sec: 12.1301\n",
      "INFO:tensorflow:loss = 0.0, step = 24969 (8.244 sec)\n",
      "INFO:tensorflow:global_step/sec: 12.0354\n",
      "INFO:tensorflow:loss = 0.0, step = 25069 (8.309 sec)\n",
      "INFO:tensorflow:global_step/sec: 11.0744\n",
      "INFO:tensorflow:loss = 0.0, step = 25169 (9.030 sec)\n",
      "INFO:tensorflow:global_step/sec: 11.9765\n",
      "INFO:tensorflow:loss = 0.0, step = 25269 (8.352 sec)\n",
      "INFO:tensorflow:global_step/sec: 11.7671\n",
      "INFO:tensorflow:loss = 0.0, step = 25369 (8.497 sec)\n",
      "INFO:tensorflow:global_step/sec: 11.6971\n",
      "INFO:tensorflow:loss = 0.0, step = 25469 (8.550 sec)\n",
      "INFO:tensorflow:global_step/sec: 11.8702\n",
      "INFO:tensorflow:loss = 0.0, step = 25569 (8.422 sec)\n",
      "INFO:tensorflow:global_step/sec: 12.1739\n",
      "INFO:tensorflow:loss = 0.0, step = 25669 (8.214 sec)\n",
      "INFO:tensorflow:global_step/sec: 11.9894\n",
      "INFO:tensorflow:loss = 0.0, step = 25769 (8.342 sec)\n",
      "INFO:tensorflow:global_step/sec: 10.7037\n",
      "INFO:tensorflow:loss = 0.0, step = 25869 (9.345 sec)\n",
      "INFO:tensorflow:global_step/sec: 12.114\n",
      "INFO:tensorflow:loss = 0.0, step = 25969 (8.252 sec)\n",
      "INFO:tensorflow:global_step/sec: 12.0819\n",
      "INFO:tensorflow:loss = 0.0, step = 26069 (8.278 sec)\n",
      "INFO:tensorflow:global_step/sec: 11.8045\n",
      "INFO:tensorflow:loss = 0.0, step = 26169 (8.471 sec)\n",
      "INFO:tensorflow:global_step/sec: 12.9729\n",
      "INFO:tensorflow:loss = 0.0, step = 26269 (7.708 sec)\n",
      "INFO:tensorflow:global_step/sec: 12.5209\n",
      "INFO:tensorflow:loss = 0.0, step = 26369 (7.986 sec)\n",
      "INFO:tensorflow:global_step/sec: 12.6504\n",
      "INFO:tensorflow:loss = 0.0, step = 26469 (7.912 sec)\n",
      "INFO:tensorflow:global_step/sec: 12.4525\n",
      "INFO:tensorflow:loss = 0.0, step = 26569 (8.025 sec)\n",
      "INFO:tensorflow:global_step/sec: 13.1292\n",
      "INFO:tensorflow:loss = 0.0, step = 26669 (7.616 sec)\n",
      "INFO:tensorflow:global_step/sec: 12.6888\n",
      "INFO:tensorflow:loss = 0.0, step = 26769 (7.881 sec)\n",
      "INFO:tensorflow:global_step/sec: 11.6617\n",
      "INFO:tensorflow:loss = 0.0, step = 26869 (8.576 sec)\n",
      "INFO:tensorflow:global_step/sec: 13.2901\n",
      "INFO:tensorflow:loss = 0.0, step = 26969 (7.523 sec)\n",
      "INFO:tensorflow:global_step/sec: 11.7176\n",
      "INFO:tensorflow:loss = 0.0, step = 27069 (8.534 sec)\n",
      "INFO:tensorflow:global_step/sec: 11.6292\n",
      "INFO:tensorflow:loss = 0.0, step = 27169 (8.599 sec)\n",
      "INFO:tensorflow:global_step/sec: 11.7368\n",
      "INFO:tensorflow:loss = 0.0, step = 27269 (8.521 sec)\n",
      "INFO:tensorflow:global_step/sec: 12.3528\n",
      "INFO:tensorflow:loss = 0.0, step = 27369 (8.094 sec)\n",
      "INFO:tensorflow:global_step/sec: 12.7243\n",
      "INFO:tensorflow:loss = 0.0, step = 27469 (7.860 sec)\n",
      "INFO:tensorflow:global_step/sec: 11.4226\n",
      "INFO:tensorflow:loss = 0.0, step = 27569 (8.755 sec)\n",
      "INFO:tensorflow:global_step/sec: 10.8047\n",
      "INFO:tensorflow:loss = 0.0, step = 27669 (9.255 sec)\n",
      "INFO:tensorflow:global_step/sec: 13.3086\n",
      "INFO:tensorflow:loss = 0.0, step = 27769 (7.514 sec)\n",
      "INFO:tensorflow:global_step/sec: 13.8529\n",
      "INFO:tensorflow:loss = 0.0, step = 27869 (7.218 sec)\n",
      "INFO:tensorflow:global_step/sec: 14.275\n",
      "INFO:tensorflow:loss = 0.0, step = 27969 (7.012 sec)\n",
      "INFO:tensorflow:global_step/sec: 12.3756\n",
      "INFO:tensorflow:loss = 0.0, step = 28069 (8.074 sec)\n",
      "INFO:tensorflow:global_step/sec: 12.3315\n",
      "INFO:tensorflow:loss = 0.0, step = 28169 (8.112 sec)\n",
      "INFO:tensorflow:global_step/sec: 10.9355\n",
      "INFO:tensorflow:loss = 0.0, step = 28269 (9.142 sec)\n",
      "INFO:tensorflow:global_step/sec: 12.9779\n",
      "INFO:tensorflow:loss = 0.0, step = 28369 (7.704 sec)\n",
      "INFO:tensorflow:global_step/sec: 13.4551\n",
      "INFO:tensorflow:loss = 0.0, step = 28469 (7.433 sec)\n",
      "INFO:tensorflow:global_step/sec: 13.1861\n",
      "INFO:tensorflow:loss = 0.0, step = 28569 (7.583 sec)\n",
      "INFO:tensorflow:global_step/sec: 12.4711\n",
      "INFO:tensorflow:loss = 0.0, step = 28669 (8.021 sec)\n",
      "INFO:tensorflow:Saving checkpoints for 28745 into experiments/batch_hard\\model.ckpt.\n",
      "WARNING:tensorflow:From C:\\Anaconda3\\envs\\pshopper\\lib\\site-packages\\tensorflow_core\\python\\training\\saver.py:963: remove_checkpoint (from tensorflow.python.training.checkpoint_management) is deprecated and will be removed in a future version.\n",
      "Instructions for updating:\n",
      "Use standard file APIs to delete files with this prefix.\n",
      "INFO:tensorflow:global_step/sec: 10.3326\n",
      "INFO:tensorflow:loss = 0.0, step = 28769 (9.677 sec)\n",
      "INFO:tensorflow:global_step/sec: 9.47617\n",
      "INFO:tensorflow:loss = 0.0, step = 28869 (10.553 sec)\n",
      "INFO:tensorflow:global_step/sec: 13.1412\n",
      "INFO:tensorflow:loss = 0.0, step = 28969 (7.609 sec)\n",
      "INFO:tensorflow:global_step/sec: 13.0607\n",
      "INFO:tensorflow:loss = 0.0, step = 29069 (7.658 sec)\n",
      "INFO:tensorflow:global_step/sec: 10.6103\n",
      "INFO:tensorflow:loss = 0.0, step = 29169 (9.426 sec)\n",
      "INFO:tensorflow:global_step/sec: 11.3914\n",
      "INFO:tensorflow:loss = 0.0, step = 29269 (8.777 sec)\n",
      "INFO:tensorflow:global_step/sec: 10.3818\n",
      "INFO:tensorflow:loss = 0.0, step = 29369 (9.634 sec)\n",
      "INFO:tensorflow:global_step/sec: 11.2294\n",
      "INFO:tensorflow:loss = 0.0, step = 29469 (8.904 sec)\n",
      "INFO:tensorflow:global_step/sec: 8.94685\n",
      "INFO:tensorflow:loss = 0.0, step = 29569 (11.176 sec)\n",
      "INFO:tensorflow:global_step/sec: 12.1316\n",
      "INFO:tensorflow:loss = 0.0, step = 29669 (8.244 sec)\n",
      "INFO:tensorflow:global_step/sec: 13.0268\n",
      "INFO:tensorflow:loss = 0.0, step = 29769 (7.676 sec)\n",
      "INFO:tensorflow:global_step/sec: 12.2337\n",
      "INFO:tensorflow:loss = 0.0, step = 29869 (8.173 sec)\n",
      "INFO:tensorflow:global_step/sec: 12.8779\n",
      "INFO:tensorflow:loss = 0.0, step = 29969 (7.766 sec)\n",
      "INFO:tensorflow:global_step/sec: 12.0688\n",
      "INFO:tensorflow:loss = 0.0, step = 30069 (8.284 sec)\n",
      "INFO:tensorflow:global_step/sec: 12.781\n",
      "INFO:tensorflow:loss = 0.0, step = 30169 (7.825 sec)\n",
      "INFO:tensorflow:global_step/sec: 11.9765\n",
      "INFO:tensorflow:loss = 0.0, step = 30269 (8.351 sec)\n",
      "INFO:tensorflow:global_step/sec: 12.0369\n",
      "INFO:tensorflow:loss = 0.0, step = 30369 (8.307 sec)\n",
      "INFO:tensorflow:global_step/sec: 12.7599\n",
      "INFO:tensorflow:loss = 0.0, step = 30469 (7.838 sec)\n",
      "INFO:tensorflow:global_step/sec: 12.5759\n",
      "INFO:tensorflow:loss = 0.0, step = 30569 (7.951 sec)\n",
      "INFO:tensorflow:global_step/sec: 13.6381\n",
      "INFO:tensorflow:loss = 0.0, step = 30669 (7.332 sec)\n",
      "INFO:tensorflow:global_step/sec: 14.3835\n",
      "INFO:tensorflow:loss = 0.0, step = 30769 (6.952 sec)\n",
      "INFO:tensorflow:global_step/sec: 13.0658\n",
      "INFO:tensorflow:loss = 0.0, step = 30869 (7.654 sec)\n",
      "INFO:tensorflow:global_step/sec: 12.7807\n",
      "INFO:tensorflow:loss = 0.0, step = 30969 (7.825 sec)\n",
      "INFO:tensorflow:global_step/sec: 12.9477\n",
      "INFO:tensorflow:loss = 0.0, step = 31069 (7.723 sec)\n",
      "INFO:tensorflow:global_step/sec: 11.5343\n",
      "INFO:tensorflow:loss = 0.0, step = 31169 (8.669 sec)\n"
     ]
    }
   ],
   "source": [
    "tf.reset_default_graph()\n",
    "tf.logging.set_verbosity(tf.logging.INFO)\n",
    "\n",
    "# Define the model\n",
    "tf.logging.info(\"Creating the model...\")\n",
    "config = tf.estimator.RunConfig(tf_random_seed = 230,\n",
    "                                model_dir = model_dir,\n",
    "                                save_summary_steps = params.save_summary_steps)\n",
    "estimator = tf.estimator.Estimator(model_fn, params=params, config=config)\n",
    "\n",
    "# Train the model\n",
    "tf.logging.info(\"Starting training for {} epoch(s).\".format(params.num_epochs))\n",
    "estimator.train(input_func_gen)"
   ]
  },
  {
   "cell_type": "code",
   "execution_count": null,
   "metadata": {},
   "outputs": [],
   "source": [
    "tf.reset_default_graph()\n",
    "tf.logging.set_verbosity(tf.logging.INFO)\n",
    "\n",
    "# Define the model\n",
    "tf.logging.info(\"Creating the model...\")\n",
    "config = tf.estimator.RunConfig(tf_random_seed = 230,\n",
    "                                model_dir = model_dir,\n",
    "                                save_summary_steps = params.save_summary_steps)\n",
    "estimator = tf.estimator.Estimator(model_fn, params=params, config=config)\n",
    "\n",
    "# Train the model\n",
    "tf.logging.info(\"Starting training for {} epoch(s).\".format(params.num_epochs))\n",
    "estimator.train(input_func_gen)"
   ]
  },
  {
   "cell_type": "code",
   "execution_count": 182,
   "metadata": {},
   "outputs": [],
   "source": [
    "num_channels = 32\n",
    "channels = [num_channels, num_channels * 2]"
   ]
  },
  {
   "cell_type": "code",
   "execution_count": 172,
   "metadata": {},
   "outputs": [
    {
     "name": "stdout",
     "output_type": "stream",
     "text": [
      "0 32\n",
      "1 64\n"
     ]
    }
   ],
   "source": [
    "for i, c in enumerate(channels):\n",
    "    print(i, c)"
   ]
  },
  {
   "cell_type": "code",
   "execution_count": null,
   "metadata": {},
   "outputs": [],
   "source": [
    "base_network.summary()    #base_network (즉 인코더) 서머리 보기\n",
    "plot_model(base_network, to_file='./CNN/base_network.png', show_shapes=True, show_layer_names=True)    #base_network 도식화 + 저장"
   ]
  },
  {
   "cell_type": "code",
   "execution_count": null,
   "metadata": {},
   "outputs": [],
   "source": [
    "# Evaluate the model on the test set\n",
    "tf.logging.info(\"Evaluation on test set.\")\n",
    "res = estimator.evaluate(lambda: test_input_fn(args.data_dir, params))\n",
    "for key in res:\n",
    "    print(\"{}: {}\".format(key, res[key]))"
   ]
  },
  {
   "cell_type": "code",
   "execution_count": null,
   "metadata": {},
   "outputs": [],
   "source": [
    "model.summary()     #전체 모델 서머리 보기\n",
    "plot_model(model, to_file='./CNN/cnn_model.png', show_shapes=True, show_layer_names=True)     #전체 모델 도식화 + 저장"
   ]
  },
  {
   "cell_type": "code",
   "execution_count": null,
   "metadata": {},
   "outputs": [],
   "source": []
  },
  {
   "cell_type": "code",
   "execution_count": null,
   "metadata": {},
   "outputs": [],
   "source": []
  },
  {
   "cell_type": "code",
   "execution_count": null,
   "metadata": {},
   "outputs": [],
   "source": []
  },
  {
   "cell_type": "code",
   "execution_count": null,
   "metadata": {},
   "outputs": [],
   "source": [
    "# Training the model\n",
    "H = model.fit([a, p, n], y_dummie, batch_size=50, epochs=10)"
   ]
  },
  {
   "cell_type": "code",
   "execution_count": null,
   "metadata": {},
   "outputs": [],
   "source": [
    "#결과 확인\n",
    "plt.plot(H.history['loss'])\n",
    "plt.savefig('./CNN/loss_graph.png')\n",
    "# plt.legend(['loss'], loc = 'upper left')\n",
    "plt.show()"
   ]
  },
  {
   "cell_type": "markdown",
   "metadata": {},
   "source": [
    "# 5. Save model & weights"
   ]
  },
  {
   "cell_type": "code",
   "execution_count": null,
   "metadata": {},
   "outputs": [],
   "source": [
    "model_dir = './CNN/encoder.json'\n",
    "model_weights_dir = './CNN/encoder.h5'"
   ]
  },
  {
   "cell_type": "code",
   "execution_count": null,
   "metadata": {},
   "outputs": [],
   "source": [
    "#Save model\n",
    "model_json = model.to_json()\n",
    "with open(model_dir, \"w\") as json_file : \n",
    "    json_file.write(model_json)\n",
    "\n",
    "#Save weights\n",
    "model.save_weights(model_weights_dir)\n",
    "print(\"Saved model to disk\")"
   ]
  }
 ],
 "metadata": {
  "kernelspec": {
   "display_name": "Python 3",
   "language": "python",
   "name": "python3"
  },
  "language_info": {
   "codemirror_mode": {
    "name": "ipython",
    "version": 3
   },
   "file_extension": ".py",
   "mimetype": "text/x-python",
   "name": "python",
   "nbconvert_exporter": "python",
   "pygments_lexer": "ipython3",
   "version": "3.5.6"
  }
 },
 "nbformat": 4,
 "nbformat_minor": 2
}
